{
  "nbformat": 4,
  "nbformat_minor": 0,
  "metadata": {
    "colab": {
      "name": "TDM-DTM_TF-IDF_.ipynb",
      "provenance": [],
      "collapsed_sections": [],
      "toc_visible": true,
      "authorship_tag": "ABX9TyPnkztc9K5x+fmymNFffOIB",
      "include_colab_link": true
    },
    "kernelspec": {
      "name": "python3",
      "display_name": "Python 3"
    }
  },
  "cells": [
    {
      "cell_type": "markdown",
      "metadata": {
        "id": "view-in-github",
        "colab_type": "text"
      },
      "source": [
        "<a href=\"https://colab.research.google.com/github/feist000/Study/blob/master/Text_Mining/TDM_DTM_TF_IDF_.ipynb\" target=\"_parent\"><img src=\"https://colab.research.google.com/assets/colab-badge.svg\" alt=\"Open In Colab\"/></a>"
      ]
    },
    {
      "cell_type": "markdown",
      "metadata": {
        "id": "2-mYbQyGogxt",
        "colab_type": "text"
      },
      "source": [
        "이전 원핫코딩(One-hot encoding) 파일에서는 원핫인코딩이 무엇인지를 정의와 실습을 통해 파악하고, Sklearn과 Gensim을 이용한 BOW를 만들어보았다. 이번에는 BOW(Bag Of Words)의 방법 중 하나인 DTM과 TDM에 대해서 배워보려고 한다. DTM과 TDM은 문서의 등장하는 각 단어의 등장빈도를 행렬로 표현한 것이다. "
      ]
    },
    {
      "cell_type": "markdown",
      "metadata": {
        "id": "TVZDFhGNqVNj",
        "colab_type": "text"
      },
      "source": [
        "# 1) DTM과 TDM\n",
        "\n",
        "- BOW(Bag of words)의 방법 중 하나\n",
        "- 문서에 등장하는 각 단어의 등장빈도를 '행렬'로 표현\n"
      ]
    },
    {
      "cell_type": "markdown",
      "metadata": {
        "id": "7F1iIaBUpl3D",
        "colab_type": "text"
      },
      "source": [
        "## TDM 직접 구현 "
      ]
    },
    {
      "cell_type": "code",
      "metadata": {
        "id": "OKgU7wRIpmwi",
        "colab_type": "code",
        "colab": {}
      },
      "source": [
        "docs = ['동물원 코끼리',\n",
        "        '동물원 원숭이 바나나',\n",
        "        '엄마 코끼리 아기 코끼리',\n",
        "        '원숭이 바나나 코끼리 바나나']"
      ],
      "execution_count": 38,
      "outputs": []
    },
    {
      "cell_type": "code",
      "metadata": {
        "id": "qa7EoHGIpn_j",
        "colab_type": "code",
        "colab": {
          "base_uri": "https://localhost:8080/",
          "height": 89
        },
        "outputId": "a72ff897-c320-42ba-81b8-1b588580b80a"
      },
      "source": [
        "doc_ls = [] # 리스트에 넣어주기 위한 바구니를 만들자\n",
        "for doc in docs :\n",
        "  doc_ls.append(doc.split(' ')) # 공백 단위로 split\n",
        "\n",
        "doc_ls"
      ],
      "execution_count": 39,
      "outputs": [
        {
          "output_type": "execute_result",
          "data": {
            "text/plain": [
              "[['동물원', '코끼리'],\n",
              " ['동물원', '원숭이', '바나나'],\n",
              " ['엄마', '코끼리', '아기', '코끼리'],\n",
              " ['원숭이', '바나나', '코끼리', '바나나']]"
            ]
          },
          "metadata": {
            "tags": []
          },
          "execution_count": 39
        }
      ]
    },
    {
      "cell_type": "code",
      "metadata": {
        "id": "SMhhODejpphM",
        "colab_type": "code",
        "colab": {}
      },
      "source": [
        "from sklearn.feature_extraction.text import CountVectorizer\n",
        "docs = ['동물원 코끼리',\n",
        "        '동물원 원숭이 바나나',\n",
        "        '엄마 코끼리 아기 코끼리',\n",
        "        '원숭이 바나나 코끼리 바나나']\n",
        "        \n",
        "vector = CountVectorizer()"
      ],
      "execution_count": 40,
      "outputs": []
    },
    {
      "cell_type": "code",
      "metadata": {
        "id": "5_eWmhu_prMt",
        "colab_type": "code",
        "colab": {
          "base_uri": "https://localhost:8080/",
          "height": 107
        },
        "outputId": "10c13beb-f796-4d61-c65e-25e987160315"
      },
      "source": [
        "print(vector.fit_transform(docs).toarray())\n",
        "# docs로부터 각 단어의 빈도 수를 기록한다.\n",
        "print(vector.vocabulary_)\n",
        "# 각 단어의 인덱스가 어떻게 부여되었는지를 보여준다."
      ],
      "execution_count": 41,
      "outputs": [
        {
          "output_type": "stream",
          "text": [
            "[[1 0 0 0 0 1]\n",
            " [1 1 0 0 1 0]\n",
            " [0 0 1 1 0 2]\n",
            " [0 2 0 0 1 1]]\n",
            "{'동물원': 0, '코끼리': 5, '원숭이': 4, '바나나': 1, '엄마': 3, '아기': 2}\n"
          ],
          "name": "stdout"
        }
      ]
    },
    {
      "cell_type": "markdown",
      "metadata": {
        "id": "30ToiV5wpu6i",
        "colab_type": "text"
      },
      "source": [
        "방법 2) 기존 방식과 같이 for 문 이용한 TDM"
      ]
    },
    {
      "cell_type": "code",
      "metadata": {
        "id": "P5nNtzzTps5C",
        "colab_type": "code",
        "colab": {}
      },
      "source": [
        "docs = ['동물원 코끼리',\n",
        "        '동물원 원숭이 바나나',\n",
        "        '엄마 코끼리 아기 코끼리',\n",
        "        '원숭이 바나나 코끼리 바나나']"
      ],
      "execution_count": 42,
      "outputs": []
    },
    {
      "cell_type": "code",
      "metadata": {
        "id": "nugM0h7Opw3C",
        "colab_type": "code",
        "colab": {
          "base_uri": "https://localhost:8080/",
          "height": 89
        },
        "outputId": "f26dfcdd-8a9d-4422-e79c-37355fad0ea8"
      },
      "source": [
        "doc_ls = []\n",
        "for doc in docs :\n",
        "  doc_ls.append(doc.split(' '))\n",
        "\n",
        "doc_ls"
      ],
      "execution_count": 43,
      "outputs": [
        {
          "output_type": "execute_result",
          "data": {
            "text/plain": [
              "[['동물원', '코끼리'],\n",
              " ['동물원', '원숭이', '바나나'],\n",
              " ['엄마', '코끼리', '아기', '코끼리'],\n",
              " ['원숭이', '바나나', '코끼리', '바나나']]"
            ]
          },
          "metadata": {
            "tags": []
          },
          "execution_count": 43
        }
      ]
    },
    {
      "cell_type": "code",
      "metadata": {
        "id": "SQjM-z_rpyua",
        "colab_type": "code",
        "colab": {}
      },
      "source": [
        "from collections import defaultdict\n",
        "word3id=defaultdict(lambda:len(word3id))\n",
        "for doc in doc_ls :\n",
        "  for token in doc:\n",
        "    word3id[token]"
      ],
      "execution_count": 44,
      "outputs": []
    },
    {
      "cell_type": "code",
      "metadata": {
        "id": "qroJK1Mdpz9q",
        "colab_type": "code",
        "colab": {
          "base_uri": "https://localhost:8080/",
          "height": 233
        },
        "outputId": "071f190f-6775-40cd-c8b2-53d89c0b9954"
      },
      "source": [
        "import numpy as np \n",
        "\n",
        "TDM =np.zeros((len(word3id), len(doc_ls)),dtype=int) # 기본 틀로서 전부 0으로 된 array를 만든다.\n",
        "print(TDM)\n",
        "for i, doc in enumerate(doc_ls):\n",
        "  for token in doc : \n",
        "    TDM[word3id[token],i] += 1 # 해당 토큰의 위치(Column)\n",
        "# 행렬로 표기(BOW와 차이점 : BOW는 1차원 배열이지만 TDM은 다차원 행렬)\n",
        "print(TDM)"
      ],
      "execution_count": 45,
      "outputs": [
        {
          "output_type": "stream",
          "text": [
            "[[0 0 0 0]\n",
            " [0 0 0 0]\n",
            " [0 0 0 0]\n",
            " [0 0 0 0]\n",
            " [0 0 0 0]\n",
            " [0 0 0 0]]\n",
            "[[1 1 0 0]\n",
            " [1 0 2 1]\n",
            " [0 1 0 1]\n",
            " [0 1 0 2]\n",
            " [0 0 1 0]\n",
            " [0 0 1 0]]\n"
          ],
          "name": "stdout"
        }
      ]
    },
    {
      "cell_type": "code",
      "metadata": {
        "id": "y7uDeOWhp1zy",
        "colab_type": "code",
        "colab": {
          "base_uri": "https://localhost:8080/",
          "height": 284
        },
        "outputId": "c1797616-d415-4c68-a32e-d9e3629c9cb2"
      },
      "source": [
        "import pandas as pd\n",
        "\n",
        "doc_names = ['문서'+str(i) for i in range(len(doc_ls))]\n",
        "print('doc_names', doc_names)\n",
        "sorted_vocab = sorted((value,key) for key, value in word3id.items())\n",
        "vocab = [v[1] for v in sorted_vocab]\n",
        "\n",
        "# 여기서부터는 시각화를 위한 단계라 필요에 따라 빼도 괜찮다!\n",
        "df_TDM = pd.DataFrame(TDM, columns=doc_names)\n",
        "df_TDM['단어'] = vocab\n",
        "df_TDM.set_index('단어')"
      ],
      "execution_count": 46,
      "outputs": [
        {
          "output_type": "stream",
          "text": [
            "doc_names ['문서0', '문서1', '문서2', '문서3']\n"
          ],
          "name": "stdout"
        },
        {
          "output_type": "execute_result",
          "data": {
            "text/html": [
              "<div>\n",
              "<style scoped>\n",
              "    .dataframe tbody tr th:only-of-type {\n",
              "        vertical-align: middle;\n",
              "    }\n",
              "\n",
              "    .dataframe tbody tr th {\n",
              "        vertical-align: top;\n",
              "    }\n",
              "\n",
              "    .dataframe thead th {\n",
              "        text-align: right;\n",
              "    }\n",
              "</style>\n",
              "<table border=\"1\" class=\"dataframe\">\n",
              "  <thead>\n",
              "    <tr style=\"text-align: right;\">\n",
              "      <th></th>\n",
              "      <th>문서0</th>\n",
              "      <th>문서1</th>\n",
              "      <th>문서2</th>\n",
              "      <th>문서3</th>\n",
              "    </tr>\n",
              "    <tr>\n",
              "      <th>단어</th>\n",
              "      <th></th>\n",
              "      <th></th>\n",
              "      <th></th>\n",
              "      <th></th>\n",
              "    </tr>\n",
              "  </thead>\n",
              "  <tbody>\n",
              "    <tr>\n",
              "      <th>동물원</th>\n",
              "      <td>1</td>\n",
              "      <td>1</td>\n",
              "      <td>0</td>\n",
              "      <td>0</td>\n",
              "    </tr>\n",
              "    <tr>\n",
              "      <th>코끼리</th>\n",
              "      <td>1</td>\n",
              "      <td>0</td>\n",
              "      <td>2</td>\n",
              "      <td>1</td>\n",
              "    </tr>\n",
              "    <tr>\n",
              "      <th>원숭이</th>\n",
              "      <td>0</td>\n",
              "      <td>1</td>\n",
              "      <td>0</td>\n",
              "      <td>1</td>\n",
              "    </tr>\n",
              "    <tr>\n",
              "      <th>바나나</th>\n",
              "      <td>0</td>\n",
              "      <td>1</td>\n",
              "      <td>0</td>\n",
              "      <td>2</td>\n",
              "    </tr>\n",
              "    <tr>\n",
              "      <th>엄마</th>\n",
              "      <td>0</td>\n",
              "      <td>0</td>\n",
              "      <td>1</td>\n",
              "      <td>0</td>\n",
              "    </tr>\n",
              "    <tr>\n",
              "      <th>아기</th>\n",
              "      <td>0</td>\n",
              "      <td>0</td>\n",
              "      <td>1</td>\n",
              "      <td>0</td>\n",
              "    </tr>\n",
              "  </tbody>\n",
              "</table>\n",
              "</div>"
            ],
            "text/plain": [
              "     문서0  문서1  문서2  문서3\n",
              "단어                     \n",
              "동물원    1    1    0    0\n",
              "코끼리    1    0    2    1\n",
              "원숭이    0    1    0    1\n",
              "바나나    0    1    0    2\n",
              "엄마     0    0    1    0\n",
              "아기     0    0    1    0"
            ]
          },
          "metadata": {
            "tags": []
          },
          "execution_count": 46
        }
      ]
    },
    {
      "cell_type": "markdown",
      "metadata": {
        "id": "aB6PQczTp5S0",
        "colab_type": "text"
      },
      "source": [
        "방법 3) gensim을 이용한 TDM "
      ]
    },
    {
      "cell_type": "code",
      "metadata": {
        "id": "5A92h1Zvp3nU",
        "colab_type": "code",
        "colab": {}
      },
      "source": [
        "docs = ['동물원 코끼리',\n",
        "        '동물원 원숭이 바나나',\n",
        "        '엄마 코끼리 아기 코끼리',\n",
        "        '원숭이 바나나 코끼리 바나나']"
      ],
      "execution_count": 47,
      "outputs": []
    },
    {
      "cell_type": "code",
      "metadata": {
        "id": "OS6Rad8Np6-v",
        "colab_type": "code",
        "colab": {
          "base_uri": "https://localhost:8080/",
          "height": 89
        },
        "outputId": "90d1a648-3b38-46e9-f046-757dcbdc965c"
      },
      "source": [
        "import gensim\n",
        "from gensim import corpora\n",
        "\n",
        "doc_ls = []\n",
        "for doc in docs :\n",
        "  doc_ls.append(doc.split(' '))\n",
        "\n",
        "id2word = corpora.Dictionary(doc_ls)\n",
        "TDM = [id2word.doc2bow(doc) for doc in doc_ls]\n",
        "TDM"
      ],
      "execution_count": 48,
      "outputs": [
        {
          "output_type": "execute_result",
          "data": {
            "text/plain": [
              "[[(0, 1), (1, 1)],\n",
              " [(0, 1), (2, 1), (3, 1)],\n",
              " [(1, 2), (4, 1), (5, 1)],\n",
              " [(1, 1), (2, 2), (3, 1)]]"
            ]
          },
          "metadata": {
            "tags": []
          },
          "execution_count": 48
        }
      ]
    },
    {
      "cell_type": "code",
      "metadata": {
        "id": "S0senJOSp9Md",
        "colab_type": "code",
        "colab": {
          "base_uri": "https://localhost:8080/",
          "height": 266
        },
        "outputId": "cb531bc8-dec2-4541-cb63-0fa4487237c6"
      },
      "source": [
        "from gensim.matutils import sparse2full\n",
        "import pandas as pd\n",
        "import numpy as np\n",
        "doc_names = ['문서'+str(i) for i in range(len(doc_ls))]\n",
        "vocab = [id2word[i] for i in id2word.keys()]\n",
        "DTM_matrix = [sparse2full(doc,len(vocab)).tolist() for doc in TDM]\n",
        "\n",
        "\n",
        "# 시각화\n",
        "df_TDM = pd.DataFrame(np.array(DTM_matrix, dtype=int).T,\n",
        "                      columns= doc_names)\n",
        "\n",
        "df_TDM['단어']= vocab\n",
        "df_TDM.set_index('단어')"
      ],
      "execution_count": 49,
      "outputs": [
        {
          "output_type": "execute_result",
          "data": {
            "text/html": [
              "<div>\n",
              "<style scoped>\n",
              "    .dataframe tbody tr th:only-of-type {\n",
              "        vertical-align: middle;\n",
              "    }\n",
              "\n",
              "    .dataframe tbody tr th {\n",
              "        vertical-align: top;\n",
              "    }\n",
              "\n",
              "    .dataframe thead th {\n",
              "        text-align: right;\n",
              "    }\n",
              "</style>\n",
              "<table border=\"1\" class=\"dataframe\">\n",
              "  <thead>\n",
              "    <tr style=\"text-align: right;\">\n",
              "      <th></th>\n",
              "      <th>문서0</th>\n",
              "      <th>문서1</th>\n",
              "      <th>문서2</th>\n",
              "      <th>문서3</th>\n",
              "    </tr>\n",
              "    <tr>\n",
              "      <th>단어</th>\n",
              "      <th></th>\n",
              "      <th></th>\n",
              "      <th></th>\n",
              "      <th></th>\n",
              "    </tr>\n",
              "  </thead>\n",
              "  <tbody>\n",
              "    <tr>\n",
              "      <th>동물원</th>\n",
              "      <td>1</td>\n",
              "      <td>1</td>\n",
              "      <td>0</td>\n",
              "      <td>0</td>\n",
              "    </tr>\n",
              "    <tr>\n",
              "      <th>코끼리</th>\n",
              "      <td>1</td>\n",
              "      <td>0</td>\n",
              "      <td>2</td>\n",
              "      <td>1</td>\n",
              "    </tr>\n",
              "    <tr>\n",
              "      <th>바나나</th>\n",
              "      <td>0</td>\n",
              "      <td>1</td>\n",
              "      <td>0</td>\n",
              "      <td>2</td>\n",
              "    </tr>\n",
              "    <tr>\n",
              "      <th>원숭이</th>\n",
              "      <td>0</td>\n",
              "      <td>1</td>\n",
              "      <td>0</td>\n",
              "      <td>1</td>\n",
              "    </tr>\n",
              "    <tr>\n",
              "      <th>아기</th>\n",
              "      <td>0</td>\n",
              "      <td>0</td>\n",
              "      <td>1</td>\n",
              "      <td>0</td>\n",
              "    </tr>\n",
              "    <tr>\n",
              "      <th>엄마</th>\n",
              "      <td>0</td>\n",
              "      <td>0</td>\n",
              "      <td>1</td>\n",
              "      <td>0</td>\n",
              "    </tr>\n",
              "  </tbody>\n",
              "</table>\n",
              "</div>"
            ],
            "text/plain": [
              "     문서0  문서1  문서2  문서3\n",
              "단어                     \n",
              "동물원    1    1    0    0\n",
              "코끼리    1    0    2    1\n",
              "바나나    0    1    0    2\n",
              "원숭이    0    1    0    1\n",
              "아기     0    0    1    0\n",
              "엄마     0    0    1    0"
            ]
          },
          "metadata": {
            "tags": []
          },
          "execution_count": 49
        }
      ]
    },
    {
      "cell_type": "markdown",
      "metadata": {
        "id": "5q-LvgLxlFa_",
        "colab_type": "text"
      },
      "source": [
        "TDM의 한계 \n",
        "\n",
        "\n",
        "*   단어의 순서를 고려하지 않는다.\n",
        "*   TDM은 spare하다. 즉, 벡터공간의 낭비, 연산 비효율서을 초래한다.\n",
        "\n",
        "*   단어 빈도수가 곧 중요도를 의미하지는 않는다.\n",
        "\n",
        "\n",
        "\n",
        "\n",
        "\n"
      ]
    },
    {
      "cell_type": "markdown",
      "metadata": {
        "id": "QeNcDeQ5tgqs",
        "colab_type": "text"
      },
      "source": [
        "# 2) TF-IDF\n",
        "\n",
        ": TDM 내 각 단어의 중요성을 가중치로 표한한 방법. TDM을 사용하는 것보다 더 정확하게 문서비교가 가능. TDM의 단점을 보완한 개정판 느낌. \n",
        "\n",
        "\n",
        "> TF는 단어빈도, IDF는 역문서빈도다. 즉, 문서집합에서 단어와 문서의 관련성을 평가하는 방법으로 TF(단어빈도)와 IDF(역문서빈도)를 곱하여 계산한다. \n",
        "이를 이용해 단어의 상대적 중요도를 계산할 수 있다. \n",
        "\n",
        "\n",
        "> ● TF(Trem Frequency) : 단어빈도\n",
        "\n",
        "1.   한 문서 내에서 단어가 얼마나 많이 등장했는가\n",
        "2.   단어가 문서내에 많이 등장할 수록 높은 TF 값을 가진다. 자주 등장할 수록 중요한 단어라는 의미를 가지게 되는 것.\n",
        "\n",
        "\n",
        "\n",
        "\n",
        "> ● IDF(Inverse Document Frequency) : 역문서빈도\n",
        "\n",
        "\n",
        "1.   단어가 얼마나 많은 문서에 등장했는지를 나타내는 DF의 역수\n",
        "2.   단어가 여러문서에 많이 등장 할 수록 IDF는 작아진다. (헷갈리기 쉬움)\n",
        "\n",
        "\n",
        "\n",
        "\n",
        "\n",
        "\n",
        "\n",
        "> 결론 :  TF값과 IDF값이 둘 다 높은 게 중요한 단어인 것이다. \n",
        "\n",
        "\n",
        "\n"
      ]
    },
    {
      "cell_type": "markdown",
      "metadata": {
        "id": "TXZaCcAuv8I3",
        "colab_type": "text"
      },
      "source": [
        "## TF-IDF 직접 구현"
      ]
    },
    {
      "cell_type": "code",
      "metadata": {
        "id": "JFiJ44HGvsW7",
        "colab_type": "code",
        "colab": {}
      },
      "source": [
        "docs = ['오늘 동물원에서 원숭이와 코끼리를 봤어',\n",
        "       '동물원에서 원숭이에게 바나나를 줬어 바나나를']"
      ],
      "execution_count": 50,
      "outputs": []
    },
    {
      "cell_type": "code",
      "metadata": {
        "id": "uKUFbX93p945",
        "colab_type": "code",
        "colab": {
          "base_uri": "https://localhost:8080/",
          "height": 53
        },
        "outputId": "8941c275-deb5-4463-e340-1de17feb9280"
      },
      "source": [
        "doc_ls = [] # 리스트에 담아주려고 바구니 만들기\n",
        "for doc in docs :\n",
        "  doc_ls.append(doc.split()) # 공백 기준으로 split\n",
        "doc_ls"
      ],
      "execution_count": 51,
      "outputs": [
        {
          "output_type": "execute_result",
          "data": {
            "text/plain": [
              "[['오늘', '동물원에서', '원숭이와', '코끼리를', '봤어'],\n",
              " ['동물원에서', '원숭이에게', '바나나를', '줬어', '바나나를']]"
            ]
          },
          "metadata": {
            "tags": []
          },
          "execution_count": 51
        }
      ]
    },
    {
      "cell_type": "code",
      "metadata": {
        "id": "cj0OvenAp92c",
        "colab_type": "code",
        "colab": {
          "base_uri": "https://localhost:8080/",
          "height": 179
        },
        "outputId": "3d7a8974-a845-4b08-ab5e-3c9958f93027"
      },
      "source": [
        "from collections import defaultdict\n",
        "word2id=defaultdict(lambda:len(word2id))\n",
        "for doc in doc_ls :\n",
        "  for token in doc:\n",
        "    word2id[token]\n",
        "\n",
        "word2id"
      ],
      "execution_count": 52,
      "outputs": [
        {
          "output_type": "execute_result",
          "data": {
            "text/plain": [
              "defaultdict(<function __main__.<lambda>>,\n",
              "            {'동물원에서': 1,\n",
              "             '바나나를': 6,\n",
              "             '봤어': 4,\n",
              "             '오늘': 0,\n",
              "             '원숭이에게': 5,\n",
              "             '원숭이와': 2,\n",
              "             '줬어': 7,\n",
              "             '코끼리를': 3})"
            ]
          },
          "metadata": {
            "tags": []
          },
          "execution_count": 52
        }
      ]
    },
    {
      "cell_type": "code",
      "metadata": {
        "id": "ZMcvZK2Uo3r5",
        "colab_type": "code",
        "colab": {
          "base_uri": "https://localhost:8080/",
          "height": 89
        },
        "outputId": "ed564357-5cb5-41eb-dabe-42d5f44d61b5"
      },
      "source": [
        "import numpy as np \n",
        "\n",
        "DTM =np.zeros((len(doc_ls),len(word2id)),dtype=int) # 기본 틀로서 전부 0으로 된 array를 만든다.\n",
        "print(DTM)\n",
        "for i, doc in enumerate(doc_ls):\n",
        "  for token in doc : \n",
        "    DTM[i, word2id[token]] += 1 # 해당 토큰의 위치(Column)\n",
        "# 행렬로 표기(BOW와 차이점 : BOW는 1차원 배열이지만 TMD, DTM은 다차원 행렬)\n",
        "print(DTM)"
      ],
      "execution_count": 53,
      "outputs": [
        {
          "output_type": "stream",
          "text": [
            "[[0 0 0 0 0 0 0 0]\n",
            " [0 0 0 0 0 0 0 0]]\n",
            "[[1 1 1 1 1 0 0 0]\n",
            " [0 1 0 0 0 1 2 1]]\n"
          ],
          "name": "stdout"
        }
      ]
    },
    {
      "cell_type": "code",
      "metadata": {
        "id": "03jZWf7JpPl2",
        "colab_type": "code",
        "colab": {
          "base_uri": "https://localhost:8080/",
          "height": 35
        },
        "outputId": "432a2e06-0eff-4d2e-c447-d4d817abb77b"
      },
      "source": [
        "DTM[0].sum()"
      ],
      "execution_count": 55,
      "outputs": [
        {
          "output_type": "execute_result",
          "data": {
            "text/plain": [
              "5"
            ]
          },
          "metadata": {
            "tags": []
          },
          "execution_count": 55
        }
      ]
    },
    {
      "cell_type": "code",
      "metadata": {
        "id": "LWbdZgnCpbOV",
        "colab_type": "code",
        "colab": {}
      },
      "source": [
        "def computeTF(DTM):\n",
        "  doc_len = len(DTM) # 문서 갯수 2개\n",
        "  word_len = len(DTM[0]) # 토큰의 갯수 8개\n",
        "  # tf 계산하기 전 0으로 셋팅\n",
        "  tf = np.zeros((doc_len, word_len))\n",
        "  print(tf)\n",
        "  # TF 계산 특정단어등장빈도/문서내 전체등장단어빈도\n",
        "  for doc_i in range(doc_len):\n",
        "    for word_i in range(word_len):\n",
        "      tf[doc_i, word_i]=DTM[doc_i,word_i]/DTM[doc_i].sum()\n",
        "  return tf"
      ],
      "execution_count": 56,
      "outputs": []
    },
    {
      "cell_type": "code",
      "metadata": {
        "id": "Piiy6BnYqHQq",
        "colab_type": "code",
        "colab": {
          "base_uri": "https://localhost:8080/",
          "height": 89
        },
        "outputId": "e6a5bee1-61b8-4fe5-884d-1d18d2bcbef6"
      },
      "source": [
        "computeTF(DTM)"
      ],
      "execution_count": 57,
      "outputs": [
        {
          "output_type": "stream",
          "text": [
            "[[0. 0. 0. 0. 0. 0. 0. 0.]\n",
            " [0. 0. 0. 0. 0. 0. 0. 0.]]\n"
          ],
          "name": "stdout"
        },
        {
          "output_type": "execute_result",
          "data": {
            "text/plain": [
              "array([[0.2, 0.2, 0.2, 0.2, 0.2, 0. , 0. , 0. ],\n",
              "       [0. , 0.2, 0. , 0. , 0. , 0.2, 0.4, 0.2]])"
            ]
          },
          "metadata": {
            "tags": []
          },
          "execution_count": 57
        }
      ]
    },
    {
      "cell_type": "markdown",
      "metadata": {
        "id": "zGSXdkWdtP3S",
        "colab_type": "text"
      },
      "source": [
        "IDF 계산 시작 "
      ]
    },
    {
      "cell_type": "code",
      "metadata": {
        "id": "IoKY3GoGqJSr",
        "colab_type": "code",
        "colab": {}
      },
      "source": [
        "import math \n",
        "# IDF 계산 : log(총문서수/단어가등장한문서수)\n",
        "def computeIDF(DTM):\n",
        "  doc_len = len(DTM)\n",
        "  word_len=len(DTM[0])\n",
        "\n",
        "  idf = np.zeros(word_len)\n",
        "\n",
        "  for i in range(word_len):\n",
        "    idf[i] = math.log10(doc_len/np.count_nonzero(DTM[:,i]))\n",
        "  return idf"
      ],
      "execution_count": 58,
      "outputs": []
    },
    {
      "cell_type": "code",
      "metadata": {
        "id": "YZULVknpqaFi",
        "colab_type": "code",
        "colab": {
          "base_uri": "https://localhost:8080/",
          "height": 53
        },
        "outputId": "d3aa9297-85f9-4c37-9093-e90ab8167710"
      },
      "source": [
        "computeIDF(DTM)"
      ],
      "execution_count": 59,
      "outputs": [
        {
          "output_type": "execute_result",
          "data": {
            "text/plain": [
              "array([0.30103, 0.     , 0.30103, 0.30103, 0.30103, 0.30103, 0.30103,\n",
              "       0.30103])"
            ]
          },
          "metadata": {
            "tags": []
          },
          "execution_count": 59
        }
      ]
    },
    {
      "cell_type": "code",
      "metadata": {
        "id": "nkzhNQXEqbcz",
        "colab_type": "code",
        "colab": {}
      },
      "source": [
        "# TF-IDF 곱\n",
        "\n",
        "def computeTFIDF(DTM):\n",
        "  tf = computeTF(DTM)\n",
        "  idf=computeIDF(DTM)\n",
        "  tfidf = np.zeros(tf.shape)\n",
        "  for doc_i in range(tf.shape[0]):\n",
        "    for word_i in range(tf.shape[1]):\n",
        "      tfidf[doc_i, word_i]=tf[doc_i,word_i]* idf[word_i]\n",
        "  return tfidf "
      ],
      "execution_count": 66,
      "outputs": []
    },
    {
      "cell_type": "code",
      "metadata": {
        "id": "chM8z-U8q8m3",
        "colab_type": "code",
        "colab": {
          "base_uri": "https://localhost:8080/",
          "height": 125
        },
        "outputId": "c60c9df3-844c-47f1-9bc1-b9632c843625"
      },
      "source": [
        "computeTFIDF(DTM)"
      ],
      "execution_count": 67,
      "outputs": [
        {
          "output_type": "stream",
          "text": [
            "[[0. 0. 0. 0. 0. 0. 0. 0.]\n",
            " [0. 0. 0. 0. 0. 0. 0. 0.]]\n"
          ],
          "name": "stdout"
        },
        {
          "output_type": "execute_result",
          "data": {
            "text/plain": [
              "array([[0.060206, 0.      , 0.060206, 0.060206, 0.060206, 0.      ,\n",
              "        0.      , 0.      ],\n",
              "       [0.      , 0.      , 0.      , 0.      , 0.      , 0.060206,\n",
              "        0.120412, 0.060206]])"
            ]
          },
          "metadata": {
            "tags": []
          },
          "execution_count": 67
        }
      ]
    },
    {
      "cell_type": "code",
      "metadata": {
        "id": "3ZPXNOBuq-kU",
        "colab_type": "code",
        "colab": {
          "base_uri": "https://localhost:8080/",
          "height": 183
        },
        "outputId": "55d3aa3a-52db-44ea-e993-c988a2198e79"
      },
      "source": [
        "import pandas as pd\n",
        "\n",
        "sorted_vocab = sorted((value,key) for key, value in word2id.items())\n",
        "print(sorted_vocab)\n",
        "vocab = [v[1] for v in sorted_vocab]\n",
        "print(vocab)\n",
        "tfidf=computeTFIDF(DTM)\n",
        "\n",
        "# 시각화\n",
        "pd.DataFrame(tfidf,columns=vocab)"
      ],
      "execution_count": 68,
      "outputs": [
        {
          "output_type": "stream",
          "text": [
            "[(0, '오늘'), (1, '동물원에서'), (2, '원숭이와'), (3, '코끼리를'), (4, '봤어'), (5, '원숭이에게'), (6, '바나나를'), (7, '줬어')]\n",
            "['오늘', '동물원에서', '원숭이와', '코끼리를', '봤어', '원숭이에게', '바나나를', '줬어']\n",
            "[[0. 0. 0. 0. 0. 0. 0. 0.]\n",
            " [0. 0. 0. 0. 0. 0. 0. 0.]]\n"
          ],
          "name": "stdout"
        },
        {
          "output_type": "execute_result",
          "data": {
            "text/html": [
              "<div>\n",
              "<style scoped>\n",
              "    .dataframe tbody tr th:only-of-type {\n",
              "        vertical-align: middle;\n",
              "    }\n",
              "\n",
              "    .dataframe tbody tr th {\n",
              "        vertical-align: top;\n",
              "    }\n",
              "\n",
              "    .dataframe thead th {\n",
              "        text-align: right;\n",
              "    }\n",
              "</style>\n",
              "<table border=\"1\" class=\"dataframe\">\n",
              "  <thead>\n",
              "    <tr style=\"text-align: right;\">\n",
              "      <th></th>\n",
              "      <th>오늘</th>\n",
              "      <th>동물원에서</th>\n",
              "      <th>원숭이와</th>\n",
              "      <th>코끼리를</th>\n",
              "      <th>봤어</th>\n",
              "      <th>원숭이에게</th>\n",
              "      <th>바나나를</th>\n",
              "      <th>줬어</th>\n",
              "    </tr>\n",
              "  </thead>\n",
              "  <tbody>\n",
              "    <tr>\n",
              "      <th>0</th>\n",
              "      <td>0.060206</td>\n",
              "      <td>0.0</td>\n",
              "      <td>0.060206</td>\n",
              "      <td>0.060206</td>\n",
              "      <td>0.060206</td>\n",
              "      <td>0.000000</td>\n",
              "      <td>0.000000</td>\n",
              "      <td>0.000000</td>\n",
              "    </tr>\n",
              "    <tr>\n",
              "      <th>1</th>\n",
              "      <td>0.000000</td>\n",
              "      <td>0.0</td>\n",
              "      <td>0.000000</td>\n",
              "      <td>0.000000</td>\n",
              "      <td>0.000000</td>\n",
              "      <td>0.060206</td>\n",
              "      <td>0.120412</td>\n",
              "      <td>0.060206</td>\n",
              "    </tr>\n",
              "  </tbody>\n",
              "</table>\n",
              "</div>"
            ],
            "text/plain": [
              "         오늘  동물원에서      원숭이와      코끼리를        봤어     원숭이에게      바나나를        줬어\n",
              "0  0.060206    0.0  0.060206  0.060206  0.060206  0.000000  0.000000  0.000000\n",
              "1  0.000000    0.0  0.000000  0.000000  0.000000  0.060206  0.120412  0.060206"
            ]
          },
          "metadata": {
            "tags": []
          },
          "execution_count": 68
        }
      ]
    },
    {
      "cell_type": "markdown",
      "metadata": {
        "id": "zLiaMuaouduw",
        "colab_type": "text"
      },
      "source": [
        "## Sklearn 사용"
      ]
    },
    {
      "cell_type": "code",
      "metadata": {
        "id": "3I6geeZbukFI",
        "colab_type": "code",
        "colab": {}
      },
      "source": [
        "docs = ['오늘 동물원에서 원숭이와 코끼리를 봤어',\n",
        "       '동물원에서 원숭이에게 바나나를 줬어 바나나를']"
      ],
      "execution_count": 70,
      "outputs": []
    },
    {
      "cell_type": "code",
      "metadata": {
        "id": "AORY8NgNu45_",
        "colab_type": "code",
        "colab": {}
      },
      "source": [
        "from sklearn.feature_extraction.text import TfidfVectorizer\n",
        "tfidv = TfidfVectorizer()\n",
        "tfidf = tfidv.fit(docs)\n",
        "tfidf.transform(docs).toarray()\n",
        "vocab = tfidf.get_feature_names()"
      ],
      "execution_count": 71,
      "outputs": []
    },
    {
      "cell_type": "code",
      "metadata": {
        "id": "bU4oHR1du43x",
        "colab_type": "code",
        "colab": {
          "base_uri": "https://localhost:8080/",
          "height": 35
        },
        "outputId": "098cc504-485a-4b86-d2de-d504a25d2c98"
      },
      "source": [
        "vocab"
      ],
      "execution_count": 72,
      "outputs": [
        {
          "output_type": "execute_result",
          "data": {
            "text/plain": [
              "['동물원에서', '바나나를', '봤어', '오늘', '원숭이에게', '원숭이와', '줬어', '코끼리를']"
            ]
          },
          "metadata": {
            "tags": []
          },
          "execution_count": 72
        }
      ]
    },
    {
      "cell_type": "code",
      "metadata": {
        "id": "Zye22AlOu40S",
        "colab_type": "code",
        "colab": {
          "base_uri": "https://localhost:8080/",
          "height": 53
        },
        "outputId": "561e6d88-b91f-4a13-f7d6-25431a465c57"
      },
      "source": [
        "tfidv.transform(docs).toarray()[0]"
      ],
      "execution_count": 73,
      "outputs": [
        {
          "output_type": "execute_result",
          "data": {
            "text/plain": [
              "array([0.33517574, 0.        , 0.47107781, 0.47107781, 0.        ,\n",
              "       0.47107781, 0.        , 0.47107781])"
            ]
          },
          "metadata": {
            "tags": []
          },
          "execution_count": 73
        }
      ]
    },
    {
      "cell_type": "code",
      "metadata": {
        "id": "vTZyhqA41Nta",
        "colab_type": "code",
        "colab": {
          "base_uri": "https://localhost:8080/",
          "height": 111
        },
        "outputId": "ee658acc-991e-46d9-bcbd-3fb121053586"
      },
      "source": [
        "df = pd.DataFrame(tfidv.transform(docs).toarray(), columns=vocab)\n",
        "df"
      ],
      "execution_count": 74,
      "outputs": [
        {
          "output_type": "execute_result",
          "data": {
            "text/html": [
              "<div>\n",
              "<style scoped>\n",
              "    .dataframe tbody tr th:only-of-type {\n",
              "        vertical-align: middle;\n",
              "    }\n",
              "\n",
              "    .dataframe tbody tr th {\n",
              "        vertical-align: top;\n",
              "    }\n",
              "\n",
              "    .dataframe thead th {\n",
              "        text-align: right;\n",
              "    }\n",
              "</style>\n",
              "<table border=\"1\" class=\"dataframe\">\n",
              "  <thead>\n",
              "    <tr style=\"text-align: right;\">\n",
              "      <th></th>\n",
              "      <th>동물원에서</th>\n",
              "      <th>바나나를</th>\n",
              "      <th>봤어</th>\n",
              "      <th>오늘</th>\n",
              "      <th>원숭이에게</th>\n",
              "      <th>원숭이와</th>\n",
              "      <th>줬어</th>\n",
              "      <th>코끼리를</th>\n",
              "    </tr>\n",
              "  </thead>\n",
              "  <tbody>\n",
              "    <tr>\n",
              "      <th>0</th>\n",
              "      <td>0.335176</td>\n",
              "      <td>0.000000</td>\n",
              "      <td>0.471078</td>\n",
              "      <td>0.471078</td>\n",
              "      <td>0.000000</td>\n",
              "      <td>0.471078</td>\n",
              "      <td>0.000000</td>\n",
              "      <td>0.471078</td>\n",
              "    </tr>\n",
              "    <tr>\n",
              "      <th>1</th>\n",
              "      <td>0.278943</td>\n",
              "      <td>0.784088</td>\n",
              "      <td>0.000000</td>\n",
              "      <td>0.000000</td>\n",
              "      <td>0.392044</td>\n",
              "      <td>0.000000</td>\n",
              "      <td>0.392044</td>\n",
              "      <td>0.000000</td>\n",
              "    </tr>\n",
              "  </tbody>\n",
              "</table>\n",
              "</div>"
            ],
            "text/plain": [
              "      동물원에서      바나나를        봤어  ...      원숭이와        줬어      코끼리를\n",
              "0  0.335176  0.000000  0.471078  ...  0.471078  0.000000  0.471078\n",
              "1  0.278943  0.784088  0.000000  ...  0.000000  0.392044  0.000000\n",
              "\n",
              "[2 rows x 8 columns]"
            ]
          },
          "metadata": {
            "tags": []
          },
          "execution_count": 74
        }
      ]
    },
    {
      "cell_type": "markdown",
      "metadata": {
        "id": "3bfg4qQLu6HG",
        "colab_type": "text"
      },
      "source": [
        "## gensim 사용"
      ]
    },
    {
      "cell_type": "code",
      "metadata": {
        "id": "7UbAtgaLu8Kw",
        "colab_type": "code",
        "colab": {
          "base_uri": "https://localhost:8080/",
          "height": 35
        },
        "outputId": "905688fa-2449-49c2-a9dd-d5b1c7544232"
      },
      "source": [
        "import gensim\n",
        "from gensim import corpora\n",
        "from gensim.models import TfidfModel\n",
        "\n",
        "docs = ['오늘 동물원에서 원숭이와 코끼리를 봤어',\n",
        "       '동물원에서 원숭이에게 바나나를 줬어 바나나를']\n",
        "\n",
        "doc_ls = [doc.split() for doc in docs]\n",
        "id2word = corpora.Dictionary(doc_ls)\n",
        "TDM = [id2word.doc2bow(doc) for doc in doc_ls]\n",
        "model = TfidfModel(TDM)\n",
        "tfidf = model[TDM]\n",
        "tfidf[0]"
      ],
      "execution_count": 83,
      "outputs": [
        {
          "output_type": "execute_result",
          "data": {
            "text/plain": [
              "[(1, 0.5), (2, 0.5), (3, 0.5), (4, 0.5)]"
            ]
          },
          "metadata": {
            "tags": []
          },
          "execution_count": 83
        }
      ]
    },
    {
      "cell_type": "code",
      "metadata": {
        "id": "jriX28k-u82Z",
        "colab_type": "code",
        "colab": {
          "base_uri": "https://localhost:8080/",
          "height": 111
        },
        "outputId": "ca48b083-70de-4c29-a869-05fe09f5234e"
      },
      "source": [
        "vocab = [id2word[i] for i in id2word.keys()]\n",
        "TDM_matrix = [sparse2full(doc,len(vocab)).tolist() for doc in tfidf]\n",
        "pd.DataFrame(TDM_matrix, columns=vocab)"
      ],
      "execution_count": 84,
      "outputs": [
        {
          "output_type": "execute_result",
          "data": {
            "text/html": [
              "<div>\n",
              "<style scoped>\n",
              "    .dataframe tbody tr th:only-of-type {\n",
              "        vertical-align: middle;\n",
              "    }\n",
              "\n",
              "    .dataframe tbody tr th {\n",
              "        vertical-align: top;\n",
              "    }\n",
              "\n",
              "    .dataframe thead th {\n",
              "        text-align: right;\n",
              "    }\n",
              "</style>\n",
              "<table border=\"1\" class=\"dataframe\">\n",
              "  <thead>\n",
              "    <tr style=\"text-align: right;\">\n",
              "      <th></th>\n",
              "      <th>동물원에서</th>\n",
              "      <th>봤어</th>\n",
              "      <th>오늘</th>\n",
              "      <th>원숭이와</th>\n",
              "      <th>코끼리를</th>\n",
              "      <th>바나나를</th>\n",
              "      <th>원숭이에게</th>\n",
              "      <th>줬어</th>\n",
              "    </tr>\n",
              "  </thead>\n",
              "  <tbody>\n",
              "    <tr>\n",
              "      <th>0</th>\n",
              "      <td>0.0</td>\n",
              "      <td>0.5</td>\n",
              "      <td>0.5</td>\n",
              "      <td>0.5</td>\n",
              "      <td>0.5</td>\n",
              "      <td>0.000000</td>\n",
              "      <td>0.000000</td>\n",
              "      <td>0.000000</td>\n",
              "    </tr>\n",
              "    <tr>\n",
              "      <th>1</th>\n",
              "      <td>0.0</td>\n",
              "      <td>0.0</td>\n",
              "      <td>0.0</td>\n",
              "      <td>0.0</td>\n",
              "      <td>0.0</td>\n",
              "      <td>0.816497</td>\n",
              "      <td>0.408248</td>\n",
              "      <td>0.408248</td>\n",
              "    </tr>\n",
              "  </tbody>\n",
              "</table>\n",
              "</div>"
            ],
            "text/plain": [
              "   동물원에서   봤어   오늘  원숭이와  코끼리를      바나나를     원숭이에게        줬어\n",
              "0    0.0  0.5  0.5   0.5   0.5  0.000000  0.000000  0.000000\n",
              "1    0.0  0.0  0.0   0.0   0.0  0.816497  0.408248  0.408248"
            ]
          },
          "metadata": {
            "tags": []
          },
          "execution_count": 84
        }
      ]
    },
    {
      "cell_type": "code",
      "metadata": {
        "id": "pon7XCF9u8yZ",
        "colab_type": "code",
        "colab": {
          "base_uri": "https://localhost:8080/",
          "height": 35
        },
        "outputId": "f2cf63d8-4c45-467d-9894-63ce41b786f4"
      },
      "source": [
        "tfidf[1]"
      ],
      "execution_count": 85,
      "outputs": [
        {
          "output_type": "execute_result",
          "data": {
            "text/plain": [
              "[(5, 0.8164965809277261), (6, 0.4082482904638631), (7, 0.4082482904638631)]"
            ]
          },
          "metadata": {
            "tags": []
          },
          "execution_count": 85
        }
      ]
    },
    {
      "cell_type": "markdown",
      "metadata": {
        "id": "UrqP-0Vr19Z_",
        "colab_type": "text"
      },
      "source": [
        "여기까지 DTM,TDM 그리고 이들의 단점을 보완한 TF-IDF까지 공부해보았다. 이제 기본적인 토대만 안 정도이지만 그래도 이해하고 응용해봤다는 것에 박수를 쳐봅니다. 챡챡챡. "
      ]
    },
    {
      "cell_type": "markdown",
      "metadata": {
        "id": "bXWnUnPR6F1u",
        "colab_type": "text"
      },
      "source": [
        "**-- END **"
      ]
    }
  ]
}