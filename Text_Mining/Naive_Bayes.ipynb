{
  "nbformat": 4,
  "nbformat_minor": 0,
  "metadata": {
    "kernelspec": {
      "display_name": "Python 3",
      "language": "python",
      "name": "python3"
    },
    "language_info": {
      "codemirror_mode": {
        "name": "ipython",
        "version": 3
      },
      "file_extension": ".py",
      "mimetype": "text/x-python",
      "name": "python",
      "nbconvert_exporter": "python",
      "pygments_lexer": "ipython3",
      "version": "3.7.7"
    },
    "colab": {
      "name": "Naive_Bayes.ipynb",
      "provenance": [],
      "toc_visible": true,
      "include_colab_link": true
    }
  },
  "cells": [
    {
      "cell_type": "markdown",
      "metadata": {
        "id": "view-in-github",
        "colab_type": "text"
      },
      "source": [
        "<a href=\"https://colab.research.google.com/github/feist000/Study/blob/master/Text_Mining/Naive_Bayes.ipynb\" target=\"_parent\"><img src=\"https://colab.research.google.com/assets/colab-badge.svg\" alt=\"Open In Colab\"/></a>"
      ]
    },
    {
      "cell_type": "markdown",
      "metadata": {
        "id": "hjI53laCUnk0",
        "colab_type": "text"
      },
      "source": [
        "## Naive Bayes Practice \n",
        "## 직접 구현\n",
        "\n",
        "\n",
        "### * 긍정(1), 부정(0)\n",
        "### * 새로운 메일이 왔는데 'happy weekend가 포함되어 있을 경우, 이 메일은 긍정인가, 부정인가?"
      ]
    },
    {
      "cell_type": "code",
      "metadata": {
        "id": "8zefdRd2Uk0M",
        "colab_type": "code",
        "colab": {},
        "outputId": "c75b9757-c137-415b-fc58-bcef78faff2b"
      },
      "source": [
        "import pandas as pd\n",
        "import numpy as np\n",
        "input_file = pd.read_csv(\"C:/Users/chae won/Desktop/Folder/Data/Text_Mining/naivebayes_example.csv\") # 읽어오기 \n",
        "input_file"
      ],
      "execution_count": null,
      "outputs": [
        {
          "output_type": "execute_result",
          "data": {
            "text/html": [
              "<div>\n",
              "<style scoped>\n",
              "    .dataframe tbody tr th:only-of-type {\n",
              "        vertical-align: middle;\n",
              "    }\n",
              "\n",
              "    .dataframe tbody tr th {\n",
              "        vertical-align: top;\n",
              "    }\n",
              "\n",
              "    .dataframe thead th {\n",
              "        text-align: right;\n",
              "    }\n",
              "</style>\n",
              "<table border=\"1\" class=\"dataframe\">\n",
              "  <thead>\n",
              "    <tr style=\"text-align: right;\">\n",
              "      <th></th>\n",
              "      <th>mail</th>\n",
              "      <th>label</th>\n",
              "    </tr>\n",
              "  </thead>\n",
              "  <tbody>\n",
              "    <tr>\n",
              "      <th>0</th>\n",
              "      <td>i love you</td>\n",
              "      <td>1</td>\n",
              "    </tr>\n",
              "    <tr>\n",
              "      <th>1</th>\n",
              "      <td>love happy weekend</td>\n",
              "      <td>1</td>\n",
              "    </tr>\n",
              "    <tr>\n",
              "      <th>2</th>\n",
              "      <td>bore work job</td>\n",
              "      <td>0</td>\n",
              "    </tr>\n",
              "    <tr>\n",
              "      <th>3</th>\n",
              "      <td>i hate you</td>\n",
              "      <td>0</td>\n",
              "    </tr>\n",
              "    <tr>\n",
              "      <th>4</th>\n",
              "      <td>bore weekend</td>\n",
              "      <td>0</td>\n",
              "    </tr>\n",
              "    <tr>\n",
              "      <th>5</th>\n",
              "      <td>happy together</td>\n",
              "      <td>1</td>\n",
              "    </tr>\n",
              "  </tbody>\n",
              "</table>\n",
              "</div>"
            ],
            "text/plain": [
              "                 mail  label\n",
              "0          i love you      1\n",
              "1  love happy weekend      1\n",
              "2       bore work job      0\n",
              "3          i hate you      0\n",
              "4        bore weekend      0\n",
              "5      happy together      1"
            ]
          },
          "metadata": {
            "tags": []
          },
          "execution_count": 1
        }
      ]
    },
    {
      "cell_type": "code",
      "metadata": {
        "id": "hlI90G0lUk0U",
        "colab_type": "code",
        "colab": {},
        "outputId": "4072d8e1-541c-4f4c-dfcc-88e68ec1f34b"
      },
      "source": [
        "training_set = np.array(input_file)\n",
        "print(training_set)"
      ],
      "execution_count": null,
      "outputs": [
        {
          "output_type": "stream",
          "text": [
            "[['i love you' 1]\n",
            " ['love happy weekend' 1]\n",
            " ['bore work job' 0]\n",
            " ['i hate you' 0]\n",
            " ['bore weekend' 0]\n",
            " ['happy together' 1]]\n"
          ],
          "name": "stdout"
        }
      ]
    },
    {
      "cell_type": "markdown",
      "metadata": {
        "id": "rXy-CP90UtU4",
        "colab_type": "text"
      },
      "source": [
        "### 토큰 빈도수 및 문서별 토큰 수 계산\n",
        "#### 확률 계산을 위한 준비"
      ]
    },
    {
      "cell_type": "code",
      "metadata": {
        "id": "dvR7PviRUk0f",
        "colab_type": "code",
        "colab": {},
        "outputId": "7c1e3de8-a5dc-44e5-dbf4-80635060ef59"
      },
      "source": [
        "training_set"
      ],
      "execution_count": null,
      "outputs": [
        {
          "output_type": "execute_result",
          "data": {
            "text/plain": [
              "array([['i love you', 1],\n",
              "       ['love happy weekend', 1],\n",
              "       ['bore work job', 0],\n",
              "       ['i hate you', 0],\n",
              "       ['bore weekend', 0],\n",
              "       ['happy together', 1]], dtype=object)"
            ]
          },
          "metadata": {
            "tags": []
          },
          "execution_count": 3
        }
      ]
    },
    {
      "cell_type": "code",
      "metadata": {
        "id": "L0-4gsa8Uk0p",
        "colab_type": "code",
        "colab": {},
        "outputId": "55b81367-f249-4970-9fb9-32f75193f787"
      },
      "source": [
        "# 토큰별로 문서 내 빈도수 카운팅\n",
        "from collections import defaultdict\n",
        "wordfreq = defaultdict(lambda : [0,0])  # lambda : 새로운 단어가 추가 될때 default 를 [0,0]으로 하겠다. [긍정,부정]\n",
        "for doc, point in training_set:\n",
        "    words = doc.split()\n",
        "    for word in words:\n",
        "        if point == 1:   \n",
        "            wordfreq[word][0] +=1 # 긍정인 경우 0번째 인텍스에 1더해라 \n",
        "        else:\n",
        "            wordfreq[word][1] +=1 # 부정인 경우 1번째 인텍스에 1더해라\n",
        "        \n",
        "wordfreq"
      ],
      "execution_count": null,
      "outputs": [
        {
          "output_type": "execute_result",
          "data": {
            "text/plain": [
              "defaultdict(<function __main__.<lambda>()>,\n",
              "            {'i': [1, 1],\n",
              "             'love': [2, 0],\n",
              "             'you': [1, 1],\n",
              "             'happy': [2, 0],\n",
              "             'weekend': [1, 1],\n",
              "             'bore': [0, 2],\n",
              "             'work': [0, 1],\n",
              "             'job': [0, 1],\n",
              "             'hate': [0, 1],\n",
              "             'together': [1, 0]})"
            ]
          },
          "metadata": {
            "tags": []
          },
          "execution_count": 4
        }
      ]
    },
    {
      "cell_type": "code",
      "metadata": {
        "id": "1PwKcJghUk0u",
        "colab_type": "code",
        "colab": {},
        "outputId": "899402a9-af06-4ca0-e0e5-29c4c34f1a45"
      },
      "source": [
        "\n",
        "# 긍정/ 부정 빈도수 계산\n",
        "긍정전체토큰수=[]\n",
        "부정전체토큰수=[]\n",
        "for key, (cnt1,cnt0) in wordfreq.items():\n",
        "    긍정전체토큰수.append(int(cnt1))\n",
        "    부정전체토큰수.append(int(cnt0))\n",
        "print(긍정전체토큰수)\n",
        "print(부정전체토큰수)\n",
        "전체갯수_긍정 = sum(긍정전체토큰수)\n",
        "전체갯수_부정 = sum(부정전체토큰수)\n",
        "print(전체갯수_긍정,전체갯수_부정)"
      ],
      "execution_count": null,
      "outputs": [
        {
          "output_type": "stream",
          "text": [
            "[1, 2, 1, 2, 1, 0, 0, 0, 0, 1]\n",
            "[1, 0, 1, 0, 1, 2, 1, 1, 1, 0]\n",
            "8 8\n"
          ],
          "name": "stdout"
        }
      ]
    },
    {
      "cell_type": "markdown",
      "metadata": {
        "id": "lax0khPZUxDm",
        "colab_type": "text"
      },
      "source": [
        "### Training : 토큰별 조건부 확률 계산"
      ]
    },
    {
      "cell_type": "code",
      "metadata": {
        "id": "Hl7dT5iBUk07",
        "colab_type": "code",
        "colab": {},
        "outputId": "1b5a6ae7-6d05-4297-b604-338918a0171b"
      },
      "source": [
        "wordfreq"
      ],
      "execution_count": null,
      "outputs": [
        {
          "output_type": "execute_result",
          "data": {
            "text/plain": [
              "defaultdict(<function __main__.<lambda>()>,\n",
              "            {'i': [1, 1],\n",
              "             'love': [2, 0],\n",
              "             'you': [1, 1],\n",
              "             'happy': [2, 0],\n",
              "             'weekend': [1, 1],\n",
              "             'bore': [0, 2],\n",
              "             'work': [0, 1],\n",
              "             'job': [0, 1],\n",
              "             'hate': [0, 1],\n",
              "             'together': [1, 0]})"
            ]
          },
          "metadata": {
            "tags": []
          },
          "execution_count": 6
        }
      ]
    },
    {
      "cell_type": "code",
      "metadata": {
        "id": "9AYZBdmfUk0_",
        "colab_type": "code",
        "colab": {},
        "outputId": "21d34c18-ff09-4f64-f077-a73621126fb1"
      },
      "source": [
        "wordprobs = defaultdict(lambda:[0,0])\n",
        "for key, (cnt1,cnt0) in wordfreq.items():\n",
        "    wordprobs[key][0] = (cnt1 + 1)/(전체갯수_긍정 + len(wordfreq))\n",
        "    wordprobs[key][1] = (cnt0 + 1)/(전체갯수_부정 + len(wordfreq))\n",
        "wordprobs"
      ],
      "execution_count": null,
      "outputs": [
        {
          "output_type": "execute_result",
          "data": {
            "text/plain": [
              "defaultdict(<function __main__.<lambda>()>,\n",
              "            {'i': [0.1111111111111111, 0.1111111111111111],\n",
              "             'love': [0.16666666666666666, 0.05555555555555555],\n",
              "             'you': [0.1111111111111111, 0.1111111111111111],\n",
              "             'happy': [0.16666666666666666, 0.05555555555555555],\n",
              "             'weekend': [0.1111111111111111, 0.1111111111111111],\n",
              "             'bore': [0.05555555555555555, 0.16666666666666666],\n",
              "             'work': [0.05555555555555555, 0.1111111111111111],\n",
              "             'job': [0.05555555555555555, 0.1111111111111111],\n",
              "             'hate': [0.05555555555555555, 0.1111111111111111],\n",
              "             'together': [0.1111111111111111, 0.05555555555555555]})"
            ]
          },
          "metadata": {
            "tags": []
          },
          "execution_count": 7
        }
      ]
    },
    {
      "cell_type": "markdown",
      "metadata": {
        "id": "PciFfZnMU0CZ",
        "colab_type": "text"
      },
      "source": [
        "### Classify : 신규 텍스트가 주어졌을 때 확률 계산"
      ]
    },
    {
      "cell_type": "code",
      "metadata": {
        "id": "23nU5idLUk1K",
        "colab_type": "code",
        "colab": {},
        "outputId": "f3be6668-9647-40d0-ab29-3b214f131d43"
      },
      "source": [
        "import math\n",
        "doc = \"happy weekend\" \n",
        "tokens = doc.split()\n",
        "tokens"
      ],
      "execution_count": null,
      "outputs": [
        {
          "output_type": "execute_result",
          "data": {
            "text/plain": [
              "['happy', 'weekend']"
            ]
          },
          "metadata": {
            "tags": []
          },
          "execution_count": 9
        }
      ]
    },
    {
      "cell_type": "code",
      "metadata": {
        "id": "xlCzRnPoUk1P",
        "colab_type": "code",
        "colab": {},
        "outputId": "ce6c2d51-9c7c-4a12-ebdd-179cda53af9d"
      },
      "source": [
        "\n",
        "# 초기값을 모두 0으로 처리 \n",
        "log_prob1 = log_prob0 = 0.0\n",
        "\n",
        "# 모든 단어에 대해 반복 \n",
        "for word, (prob1,prob0) in wordprobs.items():\n",
        "    if word in tokens:\n",
        "        log_prob1 +=math.log(prob1)\n",
        "        log_prob0 +=math.log(prob0)\n",
        "log_prob1 += math.log(전체갯수_긍정/(전체갯수_긍정+전체갯수_부정))\n",
        "log_prob0 += math.log(전체갯수_부정/(전체갯수_긍정+전체갯수_부정))\n",
        "\n",
        "prob1 = math.exp(log_prob1) \n",
        "print('prob1',prob1)\n",
        "prob0 = math.exp(log_prob0)   \n",
        "print('prob0',prob0)\n",
        "print('happy와 weekend가 새로운 메일에 포함되어 있을 경우, 긍정확률과 부정확률')\n",
        "print(\"긍정확률 : {}%\".format(prob1/(prob1+prob0)*100))\n",
        "print(\"부정확률 : {}%\".format(prob0/(prob1+prob0)*100))"
      ],
      "execution_count": null,
      "outputs": [
        {
          "output_type": "stream",
          "text": [
            "prob1 0.009259259259259257\n",
            "prob0 0.0030864197530864183\n",
            "happy와 weekend가 새로운 메일에 포함되어 있을 경우, 긍정확률과 부정확률\n",
            "긍정확률 : 75.00000000000001%\n",
            "부정확률 : 24.999999999999996%\n"
          ],
          "name": "stdout"
        }
      ]
    },
    {
      "cell_type": "markdown",
      "metadata": {
        "id": "wG1h6Xz1U4aC",
        "colab_type": "text"
      },
      "source": [
        "### Using Sklearn"
      ]
    },
    {
      "cell_type": "code",
      "metadata": {
        "id": "qhWZz3z6Uk1Z",
        "colab_type": "code",
        "colab": {},
        "outputId": "52d9575f-a73f-4acc-b4d3-c1cbb6d589ea"
      },
      "source": [
        "import pandas as pd\n",
        "input_file = pd.read_csv(\"C:/Users/chae won/Desktop/Folder/Data/Text_Mining/naivebayes_example.csv\") \n",
        "input_file"
      ],
      "execution_count": null,
      "outputs": [
        {
          "output_type": "execute_result",
          "data": {
            "text/html": [
              "<div>\n",
              "<style scoped>\n",
              "    .dataframe tbody tr th:only-of-type {\n",
              "        vertical-align: middle;\n",
              "    }\n",
              "\n",
              "    .dataframe tbody tr th {\n",
              "        vertical-align: top;\n",
              "    }\n",
              "\n",
              "    .dataframe thead th {\n",
              "        text-align: right;\n",
              "    }\n",
              "</style>\n",
              "<table border=\"1\" class=\"dataframe\">\n",
              "  <thead>\n",
              "    <tr style=\"text-align: right;\">\n",
              "      <th></th>\n",
              "      <th>mail</th>\n",
              "      <th>label</th>\n",
              "    </tr>\n",
              "  </thead>\n",
              "  <tbody>\n",
              "    <tr>\n",
              "      <th>0</th>\n",
              "      <td>i love you</td>\n",
              "      <td>1</td>\n",
              "    </tr>\n",
              "    <tr>\n",
              "      <th>1</th>\n",
              "      <td>love happy weekend</td>\n",
              "      <td>1</td>\n",
              "    </tr>\n",
              "    <tr>\n",
              "      <th>2</th>\n",
              "      <td>bore work job</td>\n",
              "      <td>0</td>\n",
              "    </tr>\n",
              "    <tr>\n",
              "      <th>3</th>\n",
              "      <td>i hate you</td>\n",
              "      <td>0</td>\n",
              "    </tr>\n",
              "    <tr>\n",
              "      <th>4</th>\n",
              "      <td>bore weekend</td>\n",
              "      <td>0</td>\n",
              "    </tr>\n",
              "    <tr>\n",
              "      <th>5</th>\n",
              "      <td>happy together</td>\n",
              "      <td>1</td>\n",
              "    </tr>\n",
              "  </tbody>\n",
              "</table>\n",
              "</div>"
            ],
            "text/plain": [
              "                 mail  label\n",
              "0          i love you      1\n",
              "1  love happy weekend      1\n",
              "2       bore work job      0\n",
              "3          i hate you      0\n",
              "4        bore weekend      0\n",
              "5      happy together      1"
            ]
          },
          "metadata": {
            "tags": []
          },
          "execution_count": 14
        }
      ]
    },
    {
      "cell_type": "code",
      "metadata": {
        "id": "EIrqzhByUk1g",
        "colab_type": "code",
        "colab": {},
        "outputId": "378b91be-f56b-40a7-ba58-5b60e4db4ccf"
      },
      "source": [
        "X_train = list(input_file['mail'])\n",
        "Y_train = list(input_file['label'])\n",
        "print(X_train)\n",
        "print(Y_train)"
      ],
      "execution_count": null,
      "outputs": [
        {
          "output_type": "stream",
          "text": [
            "['i love you', 'love happy weekend', 'bore work job', 'i hate you', 'bore weekend', 'happy together']\n",
            "[1, 1, 0, 0, 0, 1]\n"
          ],
          "name": "stdout"
        }
      ]
    },
    {
      "cell_type": "code",
      "metadata": {
        "id": "IbC4Bir_Uk1n",
        "colab_type": "code",
        "colab": {}
      },
      "source": [
        "\n",
        "from sklearn.feature_extraction.text import CountVectorizer\n",
        "from sklearn.feature_extraction.text import TfidfTransformer\n",
        "from sklearn.naive_bayes import MultinomialNB\n",
        "# CountVectorizer 선언\n",
        "count_vect = CountVectorizer()\n",
        "# fit and transform\n",
        "X_train_counts = count_vect.fit_transform(X_train)\n",
        "# MultinomialNB 선언 and fit\n",
        "clf = MultinomialNB().fit(X_train_counts, Y_train)"
      ],
      "execution_count": null,
      "outputs": []
    },
    {
      "cell_type": "code",
      "metadata": {
        "id": "sZmyOCUIUk1t",
        "colab_type": "code",
        "colab": {},
        "outputId": "cecaa9f4-c9bb-47d6-a6f8-7bacb46dc5a5"
      },
      "source": [
        "# 예측\n",
        "print(clf.predict(count_vect.transform([\"happy weekend\"]))) \n",
        "# 확률 \n",
        "print(clf.predict_proba(count_vect.transform([\"happy weekend\"])))"
      ],
      "execution_count": null,
      "outputs": [
        {
          "output_type": "stream",
          "text": [
            "[1]\n",
            "[[0.25 0.75]]\n"
          ],
          "name": "stdout"
        }
      ]
    },
    {
      "cell_type": "markdown",
      "metadata": {
        "id": "84o4e8mRU8Av",
        "colab_type": "text"
      },
      "source": [
        "**-- END**"
      ]
    }
  ]
}