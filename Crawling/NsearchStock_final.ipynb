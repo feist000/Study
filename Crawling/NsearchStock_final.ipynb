{
  "nbformat": 4,
  "nbformat_minor": 0,
  "metadata": {
    "kernelspec": {
      "display_name": "Python 3",
      "language": "python",
      "name": "python3"
    },
    "language_info": {
      "codemirror_mode": {
        "name": "ipython",
        "version": 3
      },
      "file_extension": ".py",
      "mimetype": "text/x-python",
      "name": "python",
      "nbconvert_exporter": "python",
      "pygments_lexer": "ipython3",
      "version": "3.7.7"
    },
    "colab": {
      "name": "NsearchStock_final.ipynb",
      "provenance": [],
      "include_colab_link": true
    }
  },
  "cells": [
    {
      "cell_type": "markdown",
      "metadata": {
        "id": "view-in-github",
        "colab_type": "text"
      },
      "source": [
        "<a href=\"https://colab.research.google.com/github/feist000/Study/blob/master/Crawling/NsearchStock_final.ipynb\" target=\"_parent\"><img src=\"https://colab.research.google.com/assets/colab-badge.svg\" alt=\"Open In Colab\"/></a>"
      ]
    },
    {
      "cell_type": "markdown",
      "metadata": {
        "id": "7VeietUQpOrV",
        "colab_type": "text"
      },
      "source": [
        "### 네이버 데이터랩의 검색어 트렌드의 주가 영향력 분석\n",
        "* 검색어 트렌드 분석을 통한 검색어 증가에 따른 주가 영향 분석\n",
        "* 마케팅 효과에따른 검색어 증가량 분석\n",
        "* 마케팅 수명관리\n",
        "* 경쟁사 마케팅 파급효과 분석\n"
      ]
    },
    {
      "cell_type": "code",
      "metadata": {
        "id": "myWSJ3B-pOrX",
        "colab_type": "code",
        "colab": {}
      },
      "source": [
        "import warnings\n",
        "warnings.filterwarnings('ignore')"
      ],
      "execution_count": null,
      "outputs": []
    },
    {
      "cell_type": "code",
      "metadata": {
        "id": "8cydxtLmpOrj",
        "colab_type": "code",
        "colab": {}
      },
      "source": [
        "nid = \"tjM9TlFAktHddGMdwPyd\"\n",
        "nkey = \"I4rRD_LsrS\""
      ],
      "execution_count": null,
      "outputs": []
    },
    {
      "cell_type": "code",
      "metadata": {
        "id": "SPuR5TBCpOrt",
        "colab_type": "code",
        "colab": {}
      },
      "source": [
        "\n",
        "import json ###########################\n",
        "import os\n",
        "import sys\n",
        "import urllib.request\n"
      ],
      "execution_count": null,
      "outputs": []
    },
    {
      "cell_type": "code",
      "metadata": {
        "id": "DKCDmku2pOr3",
        "colab_type": "code",
        "colab": {}
      },
      "source": [
        "import pandas as pd\n",
        "import numpy as np\n",
        "import matplotlib as mpl\n",
        "import matplotlib.pyplot as plt\n",
        "import matplotlib.font_manager as fm\n",
        "fname=fm.FontProperties(fname='malgun.ttf').get_name()\n",
        "mpl.rc('font',family=fname)\n",
        "import matplotlib.gridspec as gridspec\n"
      ],
      "execution_count": null,
      "outputs": []
    },
    {
      "cell_type": "code",
      "metadata": {
        "id": "zpG0OMRBpOr-",
        "colab_type": "code",
        "colab": {}
      },
      "source": [
        "def makeQry(keywords=[],sday='2019-01-01',eday='2020-08-30',tunit='date'):\n",
        "    res=[]\n",
        "    for words in keywords:\n",
        "        dict={'groupName':words[0],'keywords':words}\n",
        "        res.append(dict)\n",
        "    rdict={\"startDate\":sday,\n",
        "    \"endDate\":eday,\n",
        "    \"timeUnit\":tunit,\n",
        "    \"keywordGroups\":res\n",
        "          }\n",
        "    return json.dumps(rdict,ensure_ascii = False )\n"
      ],
      "execution_count": null,
      "outputs": []
    },
    {
      "cell_type": "code",
      "metadata": {
        "id": "bkFvd45CpOsE",
        "colab_type": "code",
        "colab": {}
      },
      "source": [
        "def Mynsearch(keywords=[],sday='2019-01-01',eday='2020-08-30',tunit='date'):    \n",
        "    client_id = nid ##########################\n",
        "    client_secret = nkey ###########################\n",
        "    url = \"https://openapi.naver.com/v1/datalab/search\";\n",
        "    \n",
        "    body=makeQry(keywords,sday,eday,tunit)\n",
        "    \n",
        "    request = urllib.request.Request(url)\n",
        "    request.add_header(\"X-Naver-Client-Id\",client_id)\n",
        "    request.add_header(\"X-Naver-Client-Secret\",client_secret)\n",
        "    request.add_header(\"Content-Type\",\"application/json\")\n",
        "    response = urllib.request.urlopen(request, data=body.encode(\"utf-8\"))\n",
        "    rescode = response.getcode()\n",
        "    if(rescode==200):\n",
        "        response_body = response.read()\n",
        "        res=response_body.decode('utf-8')\n",
        "        #print(res)\n",
        "    else:\n",
        "        res=\"error\"\n",
        "        print(\"Error Code:\" + rescode)\n",
        "    return res"
      ],
      "execution_count": null,
      "outputs": []
    },
    {
      "cell_type": "code",
      "metadata": {
        "id": "aC3UM4aMpOsM",
        "colab_type": "code",
        "colab": {}
      },
      "source": [
        "\n",
        "def MyDataLab(keywords=[],sday='2019-01-01',eday='2020-08-30',tunit='date'):\n",
        "    # 네이버 데이터랩 서치\n",
        "    res=Mynsearch(keywords,sday,eday,tunit)\n",
        "    #데이터 추출을 위한 json\n",
        "    jdata=json.loads(res)\n",
        "            #print(len(jdata['results']))\n",
        "    i=0;\n",
        "    #테이블 머지를 위한 기초테이블\n",
        "    maindf=pd.DataFrame()\n",
        "    # 키워드별로 컬럼명 지정\n",
        "    for words in keywords:\n",
        "        pdata=jdata['results'][i]['data']\n",
        "        i+=1\n",
        "        df=pd.DataFrame.from_dict(pdata)\n",
        "        df.columns=[\"period\",words[0].strip()]\n",
        "        df1=df.set_index(\"period\")\n",
        "        maindf=pd.merge(maindf,df1,how=\"outer\",left_index=True,right_index=True)\n",
        "    return maindf\n"
      ],
      "execution_count": null,
      "outputs": []
    },
    {
      "cell_type": "code",
      "metadata": {
        "id": "SnZkvK6VpOsZ",
        "colab_type": "code",
        "colab": {},
        "outputId": "e9a7cd39-4223-4222-a2a8-1fa87a908814"
      },
      "source": [
        "keywords=[\n",
        "['극한직업'],\n",
        "['사바하'],\n",
        "['걸캅스'],\n",
        "['나쁜녀석들'],\n",
        "['백두산'],\n",
        "#['기생충','봉준호','짜파구리'],\n",
        "]\n",
        "mdf=MyDataLab(keywords,'2019-01-01','2020-08-30','date')\n",
        "print(mdf.head())\n",
        "mdf.plot()\n",
        "plt.show()"
      ],
      "execution_count": null,
      "outputs": [
        {
          "output_type": "stream",
          "text": [
            "               극한직업      사바하      걸캅스    나쁜녀석들      백두산\n",
            "period                                                 \n",
            "2019-01-01  0.51273  0.03758  0.01178  0.15669  0.14547\n",
            "2019-01-02  0.59014  0.03655  0.01355  0.14220  0.11658\n",
            "2019-01-03  0.57528  0.02870  0.00981  0.11350  0.10892\n",
            "2019-01-04  5.09767  0.02758  0.01552  0.12453  0.10172\n",
            "2019-01-05  1.13232  0.03300  0.01299  0.14248  0.08695\n"
          ],
          "name": "stdout"
        },
        {
          "output_type": "display_data",
          "data": {
            "image/png": "[encoded data removed]",
            "text/plain": [
              "<Figure size 432x288 with 1 Axes>"
            ]
          },
          "metadata": {
            "tags": [],
            "needs_background": "light"
          }
        }
      ]
    },
    {
      "cell_type": "code",
      "metadata": {
        "id": "QtJ6bxwapOsg",
        "colab_type": "code",
        "colab": {}
      },
      "source": [
        "import sqlite3\n",
        "dbname='NaverStocks.db'\n",
        "def selData(whr=' where SIDX=0'):\n",
        "    with sqlite3.connect(dbname) as conn:\n",
        "        cur=conn.cursor()\n",
        "        sql='select SDAY,OPENP,HIGHP,LOWP,CLOSEP,VOL from StockDay '+whr\n",
        "        cur.execute(sql)\n",
        "        rows=cur.fetchall()\n",
        "        cur.close()\n",
        "    return rows"
      ],
      "execution_count": null,
      "outputs": []
    },
    {
      "cell_type": "code",
      "metadata": {
        "id": "7zHghWy_pOso",
        "colab_type": "code",
        "colab": {}
      },
      "source": [
        "def MyDBLab(keywords=[],sday='2019-01-01',eday='2020-08-30',tunit='date',scode='035760'):\n",
        "    mdf=MyDataLab(keywords,sday,eday,tunit)\n",
        "    sdaycode=sday.replace('-','')\n",
        "    edaycode=eday.replace('-','')\n",
        "    whsrc='where SDAY>={0} and SDAY<={1} and SCODE=\"{2}\" order by SDAY  asc'\n",
        "    whr=whsrc.format(sdaycode,edaycode,scode)\n",
        "    res=selData(whr)\n",
        "    cols=['SDAY','OPENP','HIGHP','LOWP','CLOSEP','VOL']\n",
        "    dfsrc=pd.DataFrame(data=res,columns=cols)\n",
        "    dfsrc['period']=[str(p)[:4]+\"-\"+str(p)[4:-2]+\"-\"+str(p)[-2:] for p in dfsrc['SDAY']]\n",
        "    dfstock=dfsrc.set_index('period')\n",
        "    df=pd.merge(dfstock,mdf,how=\"outer\",left_index=True, right_index=True)\n",
        "    alldf=df.interpolate() ############# 선형보간\n",
        "    return alldf"
      ],
      "execution_count": null,
      "outputs": []
    },
    {
      "cell_type": "code",
      "metadata": {
        "id": "cRjch2KPpOsw",
        "colab_type": "code",
        "colab": {},
        "outputId": "d25362b2-9a95-480d-d3b2-d0c5a4083ecf"
      },
      "source": [
        "keywords=[\n",
        "['극한직업'],\n",
        "#['사바하'],\n",
        "#['걸캅스'],\n",
        "#['나쁜녀석들'],\n",
        "#['백두산'],\n",
        "#['기생충','봉준호','짜파구리'],\n",
        "]\n",
        "alldf=MyDBLab(keywords,'2019-01-15','2019-02-15','date','035760')\n",
        "alldf.head(10)"
      ],
      "execution_count": null,
      "outputs": [
        {
          "output_type": "execute_result",
          "data": {
            "text/html": [
              "<div>\n",
              "<style scoped>\n",
              "    .dataframe tbody tr th:only-of-type {\n",
              "        vertical-align: middle;\n",
              "    }\n",
              "\n",
              "    .dataframe tbody tr th {\n",
              "        vertical-align: top;\n",
              "    }\n",
              "\n",
              "    .dataframe thead th {\n",
              "        text-align: right;\n",
              "    }\n",
              "</style>\n",
              "<table border=\"1\" class=\"dataframe\">\n",
              "  <thead>\n",
              "    <tr style=\"text-align: right;\">\n",
              "      <th></th>\n",
              "      <th>SDAY</th>\n",
              "      <th>OPENP</th>\n",
              "      <th>HIGHP</th>\n",
              "      <th>LOWP</th>\n",
              "      <th>CLOSEP</th>\n",
              "      <th>VOL</th>\n",
              "      <th>극한직업</th>\n",
              "    </tr>\n",
              "    <tr>\n",
              "      <th>period</th>\n",
              "      <th></th>\n",
              "      <th></th>\n",
              "      <th></th>\n",
              "      <th></th>\n",
              "      <th></th>\n",
              "      <th></th>\n",
              "      <th></th>\n",
              "    </tr>\n",
              "  </thead>\n",
              "  <tbody>\n",
              "    <tr>\n",
              "      <th>2019-01-15</th>\n",
              "      <td>20190115.0</td>\n",
              "      <td>211400.000000</td>\n",
              "      <td>212900.000000</td>\n",
              "      <td>208400.0</td>\n",
              "      <td>212900.0</td>\n",
              "      <td>54176.000000</td>\n",
              "      <td>4.04935</td>\n",
              "    </tr>\n",
              "    <tr>\n",
              "      <th>2019-01-16</th>\n",
              "      <td>20190116.0</td>\n",
              "      <td>213000.000000</td>\n",
              "      <td>217600.000000</td>\n",
              "      <td>211200.0</td>\n",
              "      <td>216000.0</td>\n",
              "      <td>82763.000000</td>\n",
              "      <td>5.14039</td>\n",
              "    </tr>\n",
              "    <tr>\n",
              "      <th>2019-01-17</th>\n",
              "      <td>20190117.0</td>\n",
              "      <td>214800.000000</td>\n",
              "      <td>215300.000000</td>\n",
              "      <td>205800.0</td>\n",
              "      <td>209100.0</td>\n",
              "      <td>66824.000000</td>\n",
              "      <td>4.38706</td>\n",
              "    </tr>\n",
              "    <tr>\n",
              "      <th>2019-01-18</th>\n",
              "      <td>20190118.0</td>\n",
              "      <td>208500.000000</td>\n",
              "      <td>208500.000000</td>\n",
              "      <td>202500.0</td>\n",
              "      <td>206500.0</td>\n",
              "      <td>74195.000000</td>\n",
              "      <td>7.29230</td>\n",
              "    </tr>\n",
              "    <tr>\n",
              "      <th>2019-01-19</th>\n",
              "      <td>20190119.0</td>\n",
              "      <td>207633.333333</td>\n",
              "      <td>208366.666667</td>\n",
              "      <td>203100.0</td>\n",
              "      <td>206200.0</td>\n",
              "      <td>66475.333333</td>\n",
              "      <td>10.99330</td>\n",
              "    </tr>\n",
              "    <tr>\n",
              "      <th>2019-01-20</th>\n",
              "      <td>20190120.0</td>\n",
              "      <td>206766.666667</td>\n",
              "      <td>208233.333333</td>\n",
              "      <td>203700.0</td>\n",
              "      <td>205900.0</td>\n",
              "      <td>58755.666667</td>\n",
              "      <td>14.18881</td>\n",
              "    </tr>\n",
              "    <tr>\n",
              "      <th>2019-01-21</th>\n",
              "      <td>20190121.0</td>\n",
              "      <td>205900.000000</td>\n",
              "      <td>208100.000000</td>\n",
              "      <td>204300.0</td>\n",
              "      <td>205600.0</td>\n",
              "      <td>51036.000000</td>\n",
              "      <td>13.45806</td>\n",
              "    </tr>\n",
              "    <tr>\n",
              "      <th>2019-01-22</th>\n",
              "      <td>20190122.0</td>\n",
              "      <td>205500.000000</td>\n",
              "      <td>206100.000000</td>\n",
              "      <td>203500.0</td>\n",
              "      <td>206000.0</td>\n",
              "      <td>33588.000000</td>\n",
              "      <td>15.23499</td>\n",
              "    </tr>\n",
              "    <tr>\n",
              "      <th>2019-01-23</th>\n",
              "      <td>20190123.0</td>\n",
              "      <td>205500.000000</td>\n",
              "      <td>205900.000000</td>\n",
              "      <td>203400.0</td>\n",
              "      <td>205800.0</td>\n",
              "      <td>48354.000000</td>\n",
              "      <td>40.86066</td>\n",
              "    </tr>\n",
              "    <tr>\n",
              "      <th>2019-01-24</th>\n",
              "      <td>20190124.0</td>\n",
              "      <td>205300.000000</td>\n",
              "      <td>208600.000000</td>\n",
              "      <td>203800.0</td>\n",
              "      <td>208600.0</td>\n",
              "      <td>49717.000000</td>\n",
              "      <td>50.60997</td>\n",
              "    </tr>\n",
              "  </tbody>\n",
              "</table>\n",
              "</div>"
            ],
            "text/plain": [
              "                  SDAY          OPENP          HIGHP      LOWP    CLOSEP  \\\n",
              "period                                                                     \n",
              "2019-01-15  20190115.0  211400.000000  212900.000000  208400.0  212900.0   \n",
              "2019-01-16  20190116.0  213000.000000  217600.000000  211200.0  216000.0   \n",
              "2019-01-17  20190117.0  214800.000000  215300.000000  205800.0  209100.0   \n",
              "2019-01-18  20190118.0  208500.000000  208500.000000  202500.0  206500.0   \n",
              "2019-01-19  20190119.0  207633.333333  208366.666667  203100.0  206200.0   \n",
              "2019-01-20  20190120.0  206766.666667  208233.333333  203700.0  205900.0   \n",
              "2019-01-21  20190121.0  205900.000000  208100.000000  204300.0  205600.0   \n",
              "2019-01-22  20190122.0  205500.000000  206100.000000  203500.0  206000.0   \n",
              "2019-01-23  20190123.0  205500.000000  205900.000000  203400.0  205800.0   \n",
              "2019-01-24  20190124.0  205300.000000  208600.000000  203800.0  208600.0   \n",
              "\n",
              "                     VOL      극한직업  \n",
              "period                              \n",
              "2019-01-15  54176.000000   4.04935  \n",
              "2019-01-16  82763.000000   5.14039  \n",
              "2019-01-17  66824.000000   4.38706  \n",
              "2019-01-18  74195.000000   7.29230  \n",
              "2019-01-19  66475.333333  10.99330  \n",
              "2019-01-20  58755.666667  14.18881  \n",
              "2019-01-21  51036.000000  13.45806  \n",
              "2019-01-22  33588.000000  15.23499  \n",
              "2019-01-23  48354.000000  40.86066  \n",
              "2019-01-24  49717.000000  50.60997  "
            ]
          },
          "metadata": {
            "tags": []
          },
          "execution_count": 14
        }
      ]
    },
    {
      "cell_type": "code",
      "metadata": {
        "id": "bdbfhpZ-pOs6",
        "colab_type": "code",
        "colab": {},
        "outputId": "65ddb485-52a9-475e-c951-3d29fe000122"
      },
      "source": [
        "xtic=np.arange(0,len(alldf.index),step=5)\n",
        "xdays=[alldf.index[i] for i in xtic]\n",
        "setdf=alldf[keywords[0]]#,'사바하','걸캅스','나쁜녀석들','백두산'\n",
        "#setdf.head()\n",
        "font = {'family': fname,\n",
        "        'color':  'aqua',\n",
        "        'weight': 'normal',\n",
        "        'size': 20,\n",
        "        }\n",
        "# x 축을 공유하고 y축을 2중 사용\n",
        "plt.rcParams[\"figure.figsize\"]=(12,6)\n",
        "fig, ax1=plt.subplots()\n",
        "plt.xticks(xtic,xdays,rotation=45)\n",
        "\n",
        "ax1.plot(alldf['CLOSEP'] ,color='gold')\n",
        "ax1.set_ylabel(\"Price\")\n",
        "ax2=ax1.twinx()\n",
        "ax2.set_ylabel(\"Ratio\")\n",
        "setdf.plot(ax=ax2)\n",
        "pos=10\n",
        "plt.axvline(pos,color='aquamarine',linestyle=\"--\")\n",
        "plt.text(pos,20,\"개봉\",fontdict=font)\n",
        "plt.title(\"CJ ENM 영화와 주가의 상관도\")\n",
        "plt.legend()\n",
        "fig.tight_layout()\n",
        "plt.show()"
      ],
      "execution_count": null,
      "outputs": [
        {
          "output_type": "display_data",
          "data": {
            "image/png": "[encoded data removed]",
            "text/plain": [
              "<Figure size 864x432 with 2 Axes>"
            ]
          },
          "metadata": {
            "tags": [],
            "needs_background": "light"
          }
        }
      ]
    },
    {
      "cell_type": "code",
      "metadata": {
        "id": "K0wwoNPFpOtC",
        "colab_type": "code",
        "colab": {}
      },
      "source": [
        "def PltDBLab(alldf,keywords,ptitle=\"CJ ENM 영화와 주가의 상관도\",xstep=10):\n",
        "    xtic=np.arange(0,len(alldf.index),step=xstep)\n",
        "    xdays=[alldf.index[i] for i in xtic]\n",
        "    setdf=alldf[keywords[0]]#,'사바하','걸캅스','나쁜녀석들','백두산'\n",
        "    #setdf.head()\n",
        "    font = {'family': fname,\n",
        "            'color':  'aqua',\n",
        "            'weight': 'normal',\n",
        "            'size': 20,\n",
        "            }\n",
        "    # x 축을 공유하고 y축을 2중 사용\n",
        "    plt.rcParams[\"figure.figsize\"]=(12,6)\n",
        "    fig, ax1=plt.subplots()\n",
        "    plt.xticks(xtic,xdays,rotation=45)\n",
        "\n",
        "    ax1.plot(alldf['CLOSEP'] ,color='gold')\n",
        "    ax1.set_ylabel(\"Price\")\n",
        "    ax2=ax1.twinx()\n",
        "    ax2.set_ylabel(\"Ratio\")\n",
        "    setdf.plot(ax=ax2)\n",
        "    pos=10\n",
        "    plt.axvline(pos,color='aquamarine',linestyle=\"--\")\n",
        "    plt.text(pos,20,\"개봉\",fontdict=font)\n",
        "    plt.title(ptitle)\n",
        "    plt.legend()\n",
        "    fig.tight_layout()\n",
        "    plt.show()"
      ],
      "execution_count": null,
      "outputs": []
    },
    {
      "cell_type": "code",
      "metadata": {
        "id": "WQ_HSUzApOtF",
        "colab_type": "code",
        "colab": {},
        "outputId": "848454e6-469c-45f1-de1d-2ded4d947ba2"
      },
      "source": [
        "alldf[['CLOSEP','극한직업']].corr()"
      ],
      "execution_count": null,
      "outputs": [
        {
          "output_type": "execute_result",
          "data": {
            "text/html": [
              "<div>\n",
              "<style scoped>\n",
              "    .dataframe tbody tr th:only-of-type {\n",
              "        vertical-align: middle;\n",
              "    }\n",
              "\n",
              "    .dataframe tbody tr th {\n",
              "        vertical-align: top;\n",
              "    }\n",
              "\n",
              "    .dataframe thead th {\n",
              "        text-align: right;\n",
              "    }\n",
              "</style>\n",
              "<table border=\"1\" class=\"dataframe\">\n",
              "  <thead>\n",
              "    <tr style=\"text-align: right;\">\n",
              "      <th></th>\n",
              "      <th>CLOSEP</th>\n",
              "      <th>극한직업</th>\n",
              "    </tr>\n",
              "  </thead>\n",
              "  <tbody>\n",
              "    <tr>\n",
              "      <th>CLOSEP</th>\n",
              "      <td>1.000000</td>\n",
              "      <td>0.390641</td>\n",
              "    </tr>\n",
              "    <tr>\n",
              "      <th>극한직업</th>\n",
              "      <td>0.390641</td>\n",
              "      <td>1.000000</td>\n",
              "    </tr>\n",
              "  </tbody>\n",
              "</table>\n",
              "</div>"
            ],
            "text/plain": [
              "          CLOSEP      극한직업\n",
              "CLOSEP  1.000000  0.390641\n",
              "극한직업    0.390641  1.000000"
            ]
          },
          "metadata": {
            "tags": []
          },
          "execution_count": 16
        }
      ]
    },
    {
      "cell_type": "code",
      "metadata": {
        "id": "ao36Iyj2pOtL",
        "colab_type": "code",
        "colab": {}
      },
      "source": [
        ""
      ],
      "execution_count": null,
      "outputs": []
    }
  ]
}