{
  "nbformat": 4,
  "nbformat_minor": 0,
  "metadata": {
    "kernelspec": {
      "display_name": "Python 3",
      "language": "python",
      "name": "python3"
    },
    "language_info": {
      "codemirror_mode": {
        "name": "ipython",
        "version": 3
      },
      "file_extension": ".py",
      "mimetype": "text/x-python",
      "name": "python",
      "nbconvert_exporter": "python",
      "pygments_lexer": "ipython3",
      "version": "3.7.7"
    },
    "colab": {
      "name": "One_hot_encoding.ipynb",
      "provenance": [],
      "collapsed_sections": [],
      "toc_visible": true,
      "include_colab_link": true
    }
  },
  "cells": [
    {
      "cell_type": "markdown",
      "metadata": {
        "id": "view-in-github",
        "colab_type": "text"
      },
      "source": [
        "<a href=\"https://colab.research.google.com/github/feist000/Study/blob/master/Text_MIning/One_hot_encoding.ipynb\" target=\"_parent\"><img src=\"https://colab.research.google.com/assets/colab-badge.svg\" alt=\"Open In Colab\"/></a>"
      ]
    },
    {
      "cell_type": "markdown",
      "metadata": {
        "id": "sFBmYwBzvWpu",
        "colab_type": "text"
      },
      "source": [
        "원핫 인코딩 (One-hot Encoding)은 One-hot vector라고도 하며 표현하고자 하는 단어의 갯수를 벡터차원으로 하여 표현하고자 하는 단어의 인덱스에는 '1', 다른 인덱스에는 '0'을 부여하여 표현하는 벡터표현방식이다.\n",
        "\n",
        "> ex) 원숭이 코뿔소 바나나 오렌지 각각을 one-hot encoding으로 표현하면?  원숭이 = [1, 0, 0]\n",
        "코뿔소 = [0, 1, 0]\n",
        "바나나 = [0, 0, 1]\n",
        "\n",
        "\n",
        "이렇게 표현하는 방법을 원핫 인코딩이라고 하고, 각각의 벡터를 원핫 벡터라고 한다. 텍스트를 유용하게 분석할 수 있는 도구이긴 하지만 차원의 문제, 그리고 벡터가 단어의 의미를 담지 못한다는 단점을 가지고 있다. "
      ]
    },
    {
      "cell_type": "markdown",
      "metadata": {
        "id": "3LARcW1z1XuO",
        "colab_type": "text"
      },
      "source": [
        "오늘은 최근 듣고 있는 텍스트 마이닝 수업에서 배운 방식을 기반으로 원핫 인코딩 (one-hot encoding)을  직접 구현해보고자 한다. 큰 카테고리는 다음과 같다.\n",
        "\n",
        "1.   원핫 인코딩 직접 구현 실습\n",
        "2.   Bow 만들기 (with Sklearn, gensim)\n"
      ]
    },
    {
      "cell_type": "code",
      "metadata": {
        "id": "0QjiIn85vWpx",
        "colab_type": "code",
        "colab": {}
      },
      "source": [
        "# 먼저, 인코딩 대상 단어를 담은 리스트를 설정한다.\n",
        "\n",
        "word_ls = ['원숭이','바나나','사과','코끼리']"
      ],
      "execution_count": 1,
      "outputs": []
    },
    {
      "cell_type": "code",
      "metadata": {
        "id": "GODEssM_vWp9",
        "colab_type": "code",
        "colab": {
          "base_uri": "https://localhost:8080/",
          "height": 89
        },
        "outputId": "cba27c32-b463-4c32-c2ab-8e04613d2e43"
      },
      "source": [
        "from collections import defaultdict\n",
        "import numpy as np\n",
        "\n",
        "# {단어:인덱스} dict 만들기\n",
        "word2id_dic=defaultdict(lambda:len(word2id_dic))\n",
        "\n",
        "for word in word_ls:\n",
        "    word2id_dic[word]\n",
        "    \n",
        "# 고유단어 갯수 : 4개\n",
        "n_unique_words =len(word2id_dic)\n",
        "\n",
        "# 원핫 인코딩 만들기 위해 비어있는 벡터 생성 \n",
        "one_hot_vectors = np.zeros((len(word_ls), n_unique_words)) # <참고> .zeroes() = 0으로 채워진 array 생성하는 함수\n",
        "\n",
        "# 단어 고유 인덱스\n",
        "for i,word in enumerate(word_ls) :\n",
        "    index = word2id_dic[word]\n",
        "    one_hot_vectors[i,index]+=1 # 단어 고유 인덱스에 1을 더해준다. 그러면 각 단어의 인덱스 위치에 1이 생기는걸 알 수 있다.(OUT값)\n",
        "\n",
        "one_hot_vectors "
      ],
      "execution_count": 2,
      "outputs": [
        {
          "output_type": "execute_result",
          "data": {
            "text/plain": [
              "array([[1., 0., 0., 0.],\n",
              "       [0., 1., 0., 0.],\n",
              "       [0., 0., 1., 0.],\n",
              "       [0., 0., 0., 1.]])"
            ]
          },
          "metadata": {
            "tags": []
          },
          "execution_count": 2
        }
      ]
    },
    {
      "cell_type": "code",
      "metadata": {
        "id": "8Qj2MGs2vWqJ",
        "colab_type": "code",
        "colab": {
          "base_uri": "https://localhost:8080/",
          "height": 53
        },
        "outputId": "e7885633-362d-41d3-9025-445d096aebb3"
      },
      "source": [
        "# 위 함수 뜯어보기 1 \n",
        "word2id_dic"
      ],
      "execution_count": 3,
      "outputs": [
        {
          "output_type": "execute_result",
          "data": {
            "text/plain": [
              "defaultdict(<function __main__.<lambda>>,\n",
              "            {'바나나': 1, '사과': 2, '원숭이': 0, '코끼리': 3})"
            ]
          },
          "metadata": {
            "tags": []
          },
          "execution_count": 3
        }
      ]
    },
    {
      "cell_type": "markdown",
      "metadata": {
        "id": "op9DxTSZvn2i",
        "colab_type": "text"
      },
      "source": [
        "***각 단어에 고유한 인덱스가 부여되었다. ***"
      ]
    },
    {
      "cell_type": "code",
      "metadata": {
        "id": "JZE8jjdhvWqO",
        "colab_type": "code",
        "colab": {
          "base_uri": "https://localhost:8080/",
          "height": 35
        },
        "outputId": "13ad9370-14ff-4819-b9ad-c72f457e2252"
      },
      "source": [
        "# 위 함수 뜯어보기 2\n",
        "n_unique_words # n_unique_words의 길이니까 4"
      ],
      "execution_count": 4,
      "outputs": [
        {
          "output_type": "execute_result",
          "data": {
            "text/plain": [
              "4"
            ]
          },
          "metadata": {
            "tags": []
          },
          "execution_count": 4
        }
      ]
    },
    {
      "cell_type": "code",
      "metadata": {
        "id": "BOURJg0yvWqU",
        "colab_type": "code",
        "colab": {
          "base_uri": "https://localhost:8080/",
          "height": 35
        },
        "outputId": "600818a6-04a3-4dbc-983c-24b639a26c9b"
      },
      "source": [
        "word_ls"
      ],
      "execution_count": 5,
      "outputs": [
        {
          "output_type": "execute_result",
          "data": {
            "text/plain": [
              "['원숭이', '바나나', '사과', '코끼리']"
            ]
          },
          "metadata": {
            "tags": []
          },
          "execution_count": 5
        }
      ]
    },
    {
      "cell_type": "markdown",
      "metadata": {
        "id": "2N___6r_vWqd",
        "colab_type": "text"
      },
      "source": [
        "# 1) Sklearn "
      ]
    },
    {
      "cell_type": "code",
      "metadata": {
        "id": "M3Ck05VWvWqf",
        "colab_type": "code",
        "colab": {
          "base_uri": "https://localhost:8080/",
          "height": 107
        },
        "outputId": "d45cdc10-6409-4585-a3e2-6452182c4fd1"
      },
      "source": [
        "! pip install sklearn"
      ],
      "execution_count": 6,
      "outputs": [
        {
          "output_type": "stream",
          "text": [
            "Requirement already satisfied: sklearn in /usr/local/lib/python3.6/dist-packages (0.0)\n",
            "Requirement already satisfied: scikit-learn in /usr/local/lib/python3.6/dist-packages (from sklearn) (0.22.2.post1)\n",
            "Requirement already satisfied: scipy>=0.17.0 in /usr/local/lib/python3.6/dist-packages (from scikit-learn->sklearn) (1.4.1)\n",
            "Requirement already satisfied: joblib>=0.11 in /usr/local/lib/python3.6/dist-packages (from scikit-learn->sklearn) (0.16.0)\n",
            "Requirement already satisfied: numpy>=1.11.0 in /usr/local/lib/python3.6/dist-packages (from scikit-learn->sklearn) (1.18.5)\n"
          ],
          "name": "stdout"
        }
      ]
    },
    {
      "cell_type": "code",
      "metadata": {
        "id": "_yIYS_TgvWqt",
        "colab_type": "code",
        "colab": {
          "base_uri": "https://localhost:8080/",
          "height": 35
        },
        "outputId": "4fe6d6e3-0c78-46b3-b589-1a95f3c437ee"
      },
      "source": [
        "# sklearn을 활용한 one-hot encoding\n",
        "\n",
        "# 1단계\n",
        "from numpy import array\n",
        "from numpy import argmax\n",
        "from sklearn.preprocessing import LabelEncoder\n",
        "from sklearn.preprocessing import OneHotEncoder\n",
        "\n",
        "# 예제 데이터 배열에 변수 지정\n",
        "values = array(word_ls)\n",
        "values\n"
      ],
      "execution_count": 7,
      "outputs": [
        {
          "output_type": "execute_result",
          "data": {
            "text/plain": [
              "array(['원숭이', '바나나', '사과', '코끼리'], dtype='<U3')"
            ]
          },
          "metadata": {
            "tags": []
          },
          "execution_count": 7
        }
      ]
    },
    {
      "cell_type": "code",
      "metadata": {
        "id": "dfiaIgnzvWq2",
        "colab_type": "code",
        "colab": {
          "base_uri": "https://localhost:8080/",
          "height": 35
        },
        "outputId": "51ef7035-7156-4a0a-95f0-7aa00f800f94"
      },
      "source": [
        "# 문자열에 숫자를 붙임 \n",
        "label_enc = LabelEncoder() # 변수 지정 \n",
        "int_enc = label_enc.fit_transform(values)\n",
        "int_enc"
      ],
      "execution_count": 8,
      "outputs": [
        {
          "output_type": "execute_result",
          "data": {
            "text/plain": [
              "array([2, 0, 1, 3])"
            ]
          },
          "metadata": {
            "tags": []
          },
          "execution_count": 8
        }
      ]
    },
    {
      "cell_type": "code",
      "metadata": {
        "id": "e7RUeqgjvWq8",
        "colab_type": "code",
        "colab": {}
      },
      "source": [
        "# array([2, 0, 1, 3], dtype=int64)를 해석해보면 array(['원숭이', '바나나', '사과', '코끼리'])에서\n",
        "#'원숭이' =[2], '바나나'=[0] 이런 식으로 인덱스가 보여된 것을 알 수 있다."
      ],
      "execution_count": 9,
      "outputs": []
    },
    {
      "cell_type": "code",
      "metadata": {
        "id": "yITeoKVJvWrD",
        "colab_type": "code",
        "colab": {
          "base_uri": "https://localhost:8080/",
          "height": 89
        },
        "outputId": "a168d047-a555-4b39-bf58-191fa640dc32"
      },
      "source": [
        "# binary encode\n",
        "onehot_enc = OneHotEncoder(sparse=False) #선언 \n",
        "# True = 행렬 형태, False = 배열 형태\n",
        "int_enc = int_enc.reshape(len(int_enc),1) \n",
        "onehot_enc = onehot_enc.fit_transform(int_enc)\n",
        "onehot_enc"
      ],
      "execution_count": 10,
      "outputs": [
        {
          "output_type": "execute_result",
          "data": {
            "text/plain": [
              "array([[0., 0., 1., 0.],\n",
              "       [1., 0., 0., 0.],\n",
              "       [0., 1., 0., 0.],\n",
              "       [0., 0., 0., 1.]])"
            ]
          },
          "metadata": {
            "tags": []
          },
          "execution_count": 10
        }
      ]
    },
    {
      "cell_type": "markdown",
      "metadata": {
        "id": "Ggfal4u_vWrK",
        "colab_type": "text"
      },
      "source": [
        "array([[0., 0., 1., 0.],\n",
        "[1., 0., 0., 0.],\n",
        "[0., 1., 0., 0.],[0., 0., 0., 1.]])\n",
        "    \n",
        "\n",
        "\n",
        "> 위에서 말한 것처럼 원숭이 =[2]니까 1이 [2] 위치에 있는 걸 알 수 있다. 나머지도 같은 맥락으로 이해하면 된다. \n",
        "\n"
      ]
    },
    {
      "cell_type": "markdown",
      "metadata": {
        "id": "QaLXh-1CvWre",
        "colab_type": "text"
      },
      "source": [
        "# 2) BOW\n",
        "\n"
      ]
    },
    {
      "cell_type": "code",
      "metadata": {
        "id": "_c2WtJ8PvWrf",
        "colab_type": "code",
        "colab": {
          "base_uri": "https://localhost:8080/",
          "height": 35
        },
        "outputId": "51c04598-2859-4c52-f9e7-044bb87fe1db"
      },
      "source": [
        "docs = ['오늘 동물원에서 코끼리 원숭이를 보고 코끼리 원숭이에게 먹이를 줬어',\n",
        "       '오늘 동물원에서 원숭이에게 사과를 줬어']\n",
        "\n",
        "docs"
      ],
      "execution_count": 11,
      "outputs": [
        {
          "output_type": "execute_result",
          "data": {
            "text/plain": [
              "['오늘 동물원에서 코끼리 원숭이를 보고 코끼리 원숭이에게 먹이를 줬어', '오늘 동물원에서 원숭이에게 사과를 줬어']"
            ]
          },
          "metadata": {
            "tags": []
          },
          "execution_count": 11
        }
      ]
    },
    {
      "cell_type": "code",
      "metadata": {
        "id": "TgGzAKE9vWro",
        "colab_type": "code",
        "colab": {
          "base_uri": "https://localhost:8080/",
          "height": 53
        },
        "outputId": "8a309fa6-e6e5-4845-828d-f1e9c65598e1"
      },
      "source": [
        "# 띄어쓰기 토큰화 \n",
        "\n",
        "doc_ls =[] # 새로운 바구니를 만들고 \n",
        "\n",
        "for doc in docs :\n",
        "    doc_ls.append(doc.split(' '))  # 띄어쓰기를 기준으로 바구니에 append 시키는 for문을 실행한다. \n",
        "doc_ls\n",
        "\n",
        "# 각 문장별로 토큰화가 완료 (문서1, 문서2가 각각 띄어쓰기를 기준으로 토큰화 되었음을 알 수 있다.)"
      ],
      "execution_count": 12,
      "outputs": [
        {
          "output_type": "execute_result",
          "data": {
            "text/plain": [
              "[['오늘', '동물원에서', '코끼리', '원숭이를', '보고', '코끼리', '원숭이에게', '먹이를', '줬어'],\n",
              " ['오늘', '동물원에서', '원숭이에게', '사과를', '줬어']]"
            ]
          },
          "metadata": {
            "tags": []
          },
          "execution_count": 12
        }
      ]
    },
    {
      "cell_type": "code",
      "metadata": {
        "id": "6eIwc4X4vWrw",
        "colab_type": "code",
        "colab": {
          "base_uri": "https://localhost:8080/",
          "height": 35
        },
        "outputId": "e9a4d4cd-3ba7-4ae5-ca52-028325d348b6"
      },
      "source": [
        "from collections import defaultdict\n",
        "word2id=defaultdict(lambda:len(word2id))\n",
        "word2id"
      ],
      "execution_count": 13,
      "outputs": [
        {
          "output_type": "execute_result",
          "data": {
            "text/plain": [
              "defaultdict(<function __main__.<lambda>>, {})"
            ]
          },
          "metadata": {
            "tags": []
          },
          "execution_count": 13
        }
      ]
    },
    {
      "cell_type": "code",
      "metadata": {
        "id": "bTO6kiY0vWr2",
        "colab_type": "code",
        "colab": {
          "base_uri": "https://localhost:8080/",
          "height": 197
        },
        "outputId": "76e69429-12f0-4501-83d5-49f6335e4b04"
      },
      "source": [
        "# 특별한 애들(unique word)만 for문을 돌려서 하나씩 넣어주자.\n",
        "\n",
        "for doc in doc_ls :\n",
        "    for token in doc : \n",
        "        word2id[token] # token을 하나씩 넣으라는 명령 \n",
        "\n",
        "word2id"
      ],
      "execution_count": 14,
      "outputs": [
        {
          "output_type": "execute_result",
          "data": {
            "text/plain": [
              "defaultdict(<function __main__.<lambda>>,\n",
              "            {'동물원에서': 1,\n",
              "             '먹이를': 6,\n",
              "             '보고': 4,\n",
              "             '사과를': 8,\n",
              "             '오늘': 0,\n",
              "             '원숭이를': 3,\n",
              "             '원숭이에게': 5,\n",
              "             '줬어': 7,\n",
              "             '코끼리': 2})"
            ]
          },
          "metadata": {
            "tags": []
          },
          "execution_count": 14
        }
      ]
    },
    {
      "cell_type": "markdown",
      "metadata": {
        "id": "9RwAaUDtvWr9",
        "colab_type": "text"
      },
      "source": [
        "특별한 애들만 고른다는 뜻은 한번 word가 나온 뒤에는 반복된 단어가 또 나와도 그냥 건너뛴다는 의미로 생각할 수 있다. 그리고 뒤에 딕셔너리 형태로 value 값에 인덱스를 붙여줌으로서 고유한 번호를 부여한다. 그래야 텍스트가 숫자형으로 바뀌어서 데이터화 하기 편하고, 이후 각 단어의 인덱스가 어디에 있는 지 한 눈에 확인하기 편하다. "
      ]
    },
    {
      "cell_type": "code",
      "metadata": {
        "id": "IKi74rRAvWr-",
        "colab_type": "code",
        "colab": {
          "base_uri": "https://localhost:8080/",
          "height": 71
        },
        "outputId": "7e80bd09-f286-4ad6-f25f-d70126d0741c"
      },
      "source": [
        "import numpy as np \n",
        "\n",
        "Bow_ls = []\n",
        "\n",
        "for i, doc in enumerate(doc_ls):\n",
        "    bow = np.zeros(len(word2id), dtype=int)\n",
        "    print(bow) \n",
        "    for token in doc:\n",
        "        bow[word2id[token]] +=1\n",
        "    Bow_ls.append(bow.tolist())\n",
        "        \n",
        "Bow_ls"
      ],
      "execution_count": 15,
      "outputs": [
        {
          "output_type": "stream",
          "text": [
            "[0 0 0 0 0 0 0 0 0]\n",
            "[0 0 0 0 0 0 0 0 0]\n"
          ],
          "name": "stdout"
        },
        {
          "output_type": "execute_result",
          "data": {
            "text/plain": [
              "[[1, 1, 2, 1, 1, 1, 1, 1, 0], [1, 1, 0, 0, 0, 1, 0, 1, 1]]"
            ]
          },
          "metadata": {
            "tags": []
          },
          "execution_count": 15
        }
      ]
    },
    {
      "cell_type": "code",
      "metadata": {
        "id": "d4Pcmb3QvWsH",
        "colab_type": "code",
        "colab": {
          "base_uri": "https://localhost:8080/",
          "height": 35
        },
        "outputId": "5afd8865-cfe5-4d1d-bdd3-f6b084ff5402"
      },
      "source": [
        "from IPython.core import display as ICD\n",
        "import pandas as pd\n",
        "sorted_vocab = sorted((value,key) for key, value in word2id.items())\n",
        "print('sorted_vocab', sorted_vocab)"
      ],
      "execution_count": 16,
      "outputs": [
        {
          "output_type": "stream",
          "text": [
            "sorted_vocab [(0, '오늘'), (1, '동물원에서'), (2, '코끼리'), (3, '원숭이를'), (4, '보고'), (5, '원숭이에게'), (6, '먹이를'), (7, '줬어'), (8, '사과를')]\n"
          ],
          "name": "stdout"
        }
      ]
    },
    {
      "cell_type": "code",
      "metadata": {
        "id": "4fKyZZuwvWsP",
        "colab_type": "code",
        "colab": {
          "base_uri": "https://localhost:8080/",
          "height": 35
        },
        "outputId": "5bb88fdb-c5ef-4b70-9a71-a1f142b79311"
      },
      "source": [
        "vocab = []\n",
        "for v in sorted_vocab :\n",
        "    vocab.append(v[1])\n",
        "print('vocab',vocab)"
      ],
      "execution_count": 17,
      "outputs": [
        {
          "output_type": "stream",
          "text": [
            "vocab ['오늘', '동물원에서', '코끼리', '원숭이를', '보고', '원숭이에게', '먹이를', '줬어', '사과를']\n"
          ],
          "name": "stdout"
        }
      ]
    },
    {
      "cell_type": "code",
      "metadata": {
        "id": "i6lByZgqvWsW",
        "colab_type": "code",
        "colab": {
          "base_uri": "https://localhost:8080/",
          "height": 287
        },
        "outputId": "e25dfeda-440a-47b6-bc03-faec8196ce82"
      },
      "source": [
        "for i in range(len(docs)) :\n",
        "    print(\"문서{} : {}\".format(i,docs[i]))\n",
        "    ICD.display(pd.DataFrame([Bow_ls[i]], columns=vocab))\n",
        "    print(\"\\n\\n\")"
      ],
      "execution_count": 18,
      "outputs": [
        {
          "output_type": "stream",
          "text": [
            "문서0 : 오늘 동물원에서 코끼리 원숭이를 보고 코끼리 원숭이에게 먹이를 줬어\n"
          ],
          "name": "stdout"
        },
        {
          "output_type": "display_data",
          "data": {
            "text/html": [
              "<div>\n",
              "<style scoped>\n",
              "    .dataframe tbody tr th:only-of-type {\n",
              "        vertical-align: middle;\n",
              "    }\n",
              "\n",
              "    .dataframe tbody tr th {\n",
              "        vertical-align: top;\n",
              "    }\n",
              "\n",
              "    .dataframe thead th {\n",
              "        text-align: right;\n",
              "    }\n",
              "</style>\n",
              "<table border=\"1\" class=\"dataframe\">\n",
              "  <thead>\n",
              "    <tr style=\"text-align: right;\">\n",
              "      <th></th>\n",
              "      <th>오늘</th>\n",
              "      <th>동물원에서</th>\n",
              "      <th>코끼리</th>\n",
              "      <th>원숭이를</th>\n",
              "      <th>보고</th>\n",
              "      <th>원숭이에게</th>\n",
              "      <th>먹이를</th>\n",
              "      <th>줬어</th>\n",
              "      <th>사과를</th>\n",
              "    </tr>\n",
              "  </thead>\n",
              "  <tbody>\n",
              "    <tr>\n",
              "      <th>0</th>\n",
              "      <td>1</td>\n",
              "      <td>1</td>\n",
              "      <td>2</td>\n",
              "      <td>1</td>\n",
              "      <td>1</td>\n",
              "      <td>1</td>\n",
              "      <td>1</td>\n",
              "      <td>1</td>\n",
              "      <td>0</td>\n",
              "    </tr>\n",
              "  </tbody>\n",
              "</table>\n",
              "</div>"
            ],
            "text/plain": [
              "   오늘  동물원에서  코끼리  원숭이를  보고  원숭이에게  먹이를  줬어  사과를\n",
              "0   1      1    2     1   1      1    1   1    0"
            ]
          },
          "metadata": {
            "tags": []
          }
        },
        {
          "output_type": "stream",
          "text": [
            "\n",
            "\n",
            "\n",
            "문서1 : 오늘 동물원에서 원숭이에게 사과를 줬어\n"
          ],
          "name": "stdout"
        },
        {
          "output_type": "display_data",
          "data": {
            "text/html": [
              "<div>\n",
              "<style scoped>\n",
              "    .dataframe tbody tr th:only-of-type {\n",
              "        vertical-align: middle;\n",
              "    }\n",
              "\n",
              "    .dataframe tbody tr th {\n",
              "        vertical-align: top;\n",
              "    }\n",
              "\n",
              "    .dataframe thead th {\n",
              "        text-align: right;\n",
              "    }\n",
              "</style>\n",
              "<table border=\"1\" class=\"dataframe\">\n",
              "  <thead>\n",
              "    <tr style=\"text-align: right;\">\n",
              "      <th></th>\n",
              "      <th>오늘</th>\n",
              "      <th>동물원에서</th>\n",
              "      <th>코끼리</th>\n",
              "      <th>원숭이를</th>\n",
              "      <th>보고</th>\n",
              "      <th>원숭이에게</th>\n",
              "      <th>먹이를</th>\n",
              "      <th>줬어</th>\n",
              "      <th>사과를</th>\n",
              "    </tr>\n",
              "  </thead>\n",
              "  <tbody>\n",
              "    <tr>\n",
              "      <th>0</th>\n",
              "      <td>1</td>\n",
              "      <td>1</td>\n",
              "      <td>0</td>\n",
              "      <td>0</td>\n",
              "      <td>0</td>\n",
              "      <td>1</td>\n",
              "      <td>0</td>\n",
              "      <td>1</td>\n",
              "      <td>1</td>\n",
              "    </tr>\n",
              "  </tbody>\n",
              "</table>\n",
              "</div>"
            ],
            "text/plain": [
              "   오늘  동물원에서  코끼리  원숭이를  보고  원숭이에게  먹이를  줬어  사과를\n",
              "0   1      1    0     0   0      1    0   1    1"
            ]
          },
          "metadata": {
            "tags": []
          }
        },
        {
          "output_type": "stream",
          "text": [
            "\n",
            "\n",
            "\n"
          ],
          "name": "stdout"
        }
      ]
    },
    {
      "cell_type": "code",
      "metadata": {
        "id": "k8UwzYj7vWsd",
        "colab_type": "code",
        "colab": {
          "base_uri": "https://localhost:8080/",
          "height": 35
        },
        "outputId": "0ff2fdf6-0b01-42b3-80c1-50d8e7bd52ef"
      },
      "source": [
        "Bow_ls"
      ],
      "execution_count": 19,
      "outputs": [
        {
          "output_type": "execute_result",
          "data": {
            "text/plain": [
              "[[1, 1, 2, 1, 1, 1, 1, 1, 0], [1, 1, 0, 0, 0, 1, 0, 1, 1]]"
            ]
          },
          "metadata": {
            "tags": []
          },
          "execution_count": 19
        }
      ]
    },
    {
      "cell_type": "markdown",
      "metadata": {
        "id": "y9re6ejuw1k0",
        "colab_type": "text"
      },
      "source": [
        "--- 완성."
      ]
    },
    {
      "cell_type": "markdown",
      "metadata": {
        "id": "aJf5tpu3vWs9",
        "colab_type": "text"
      },
      "source": [
        "## 단어의 순서를 고려하지 않은 BOW"
      ]
    },
    {
      "cell_type": "code",
      "metadata": {
        "id": "ZiJ3M-qkvWs-",
        "colab_type": "code",
        "colab": {
          "base_uri": "https://localhost:8080/",
          "height": 53
        },
        "outputId": "78d6fd5f-0376-4c94-8a44-e2f3ad072e28"
      },
      "source": [
        "docs = ['나는 양념 치킨을 좋아해 하지만 후라이드 치킨을 싫어해',\n",
        "        '나는 후라이드 치킨을 좋아해 하지만 양념 치킨을 싫어해']\n",
        "\n",
        "doc_ls =[] # 새로운 바구니를 만들고 \n",
        "\n",
        "for doc in docs :\n",
        "    doc_ls.append(doc.split(' '))  # 띄어쓰기를 기준으로 바구니에 append 시키는 for문을 실행한다. \n",
        "doc_ls"
      ],
      "execution_count": 20,
      "outputs": [
        {
          "output_type": "execute_result",
          "data": {
            "text/plain": [
              "[['나는', '양념', '치킨을', '좋아해', '하지만', '후라이드', '치킨을', '싫어해'],\n",
              " ['나는', '후라이드', '치킨을', '좋아해', '하지만', '양념', '치킨을', '싫어해']]"
            ]
          },
          "metadata": {
            "tags": []
          },
          "execution_count": 20
        }
      ]
    },
    {
      "cell_type": "code",
      "metadata": {
        "id": "H9yqaTnnyr49",
        "colab_type": "code",
        "colab": {
          "base_uri": "https://localhost:8080/",
          "height": 35
        },
        "outputId": "70de0fc1-7af2-44f8-8647-96c26ae41471"
      },
      "source": [
        "from collections import defaultdict\n",
        "word1id=defaultdict(lambda:len(word1id))\n",
        "word1id"
      ],
      "execution_count": 22,
      "outputs": [
        {
          "output_type": "execute_result",
          "data": {
            "text/plain": [
              "defaultdict(<function __main__.<lambda>>, {})"
            ]
          },
          "metadata": {
            "tags": []
          },
          "execution_count": 22
        }
      ]
    },
    {
      "cell_type": "code",
      "metadata": {
        "id": "yrGWQ1cnvWtE",
        "colab_type": "code",
        "colab": {
          "base_uri": "https://localhost:8080/",
          "height": 161
        },
        "outputId": "7c3c3c4d-eea8-4e26-9bd7-6a13d9be019a"
      },
      "source": [
        "for doc in doc_ls :\n",
        "    for token in doc : \n",
        "        word1id[token] # token을 하나씩 넣으라는 명령 \n",
        "\n",
        "word1id"
      ],
      "execution_count": 23,
      "outputs": [
        {
          "output_type": "execute_result",
          "data": {
            "text/plain": [
              "defaultdict(<function __main__.<lambda>>,\n",
              "            {'나는': 0,\n",
              "             '싫어해': 6,\n",
              "             '양념': 1,\n",
              "             '좋아해': 3,\n",
              "             '치킨을': 2,\n",
              "             '하지만': 4,\n",
              "             '후라이드': 5})"
            ]
          },
          "metadata": {
            "tags": []
          },
          "execution_count": 23
        }
      ]
    },
    {
      "cell_type": "code",
      "metadata": {
        "id": "mawW3KIIvWtM",
        "colab_type": "code",
        "colab": {
          "base_uri": "https://localhost:8080/",
          "height": 71
        },
        "outputId": "119c6d44-c06c-45cc-9f68-f1a1a88f8d30"
      },
      "source": [
        "Bow_ls = [] # 새로운 바구니를 만들고,\n",
        "\n",
        "for i, doc in enumerate(doc_ls):\n",
        "    bow = np.zeros(len(word1id), dtype=int) # 기본 틀로서 전부 0으로 된 array를 만든다.\n",
        "    print(bow) \n",
        "    \n",
        "    for token in doc:\n",
        "        bow[word1id[token]] +=1  # token이 해당되는 자리에 +1을 해주면, 각 word가 위치한 곳이 1로 표시가 된다.\n",
        "    Bow_ls.append(bow.tolist())\n",
        "        \n",
        "Bow_ls"
      ],
      "execution_count": 24,
      "outputs": [
        {
          "output_type": "stream",
          "text": [
            "[0 0 0 0 0 0 0]\n",
            "[0 0 0 0 0 0 0]\n"
          ],
          "name": "stdout"
        },
        {
          "output_type": "execute_result",
          "data": {
            "text/plain": [
              "[[1, 1, 2, 1, 1, 1, 1], [1, 1, 2, 1, 1, 1, 1]]"
            ]
          },
          "metadata": {
            "tags": []
          },
          "execution_count": 24
        }
      ]
    },
    {
      "cell_type": "code",
      "metadata": {
        "id": "ciet-NNhvWtU",
        "colab_type": "code",
        "colab": {
          "base_uri": "https://localhost:8080/",
          "height": 35
        },
        "outputId": "95514497-29f0-4ca9-ad63-540ca1e9eff2"
      },
      "source": [
        "from IPython.core import display as ICD\n",
        "import pandas as pd\n",
        "sorted_vocab = sorted((value,key) for key, value in word1id.items())\n",
        "print('sorted_vocab', sorted_vocab)"
      ],
      "execution_count": 25,
      "outputs": [
        {
          "output_type": "stream",
          "text": [
            "sorted_vocab [(0, '나는'), (1, '양념'), (2, '치킨을'), (3, '좋아해'), (4, '하지만'), (5, '후라이드'), (6, '싫어해')]\n"
          ],
          "name": "stdout"
        }
      ]
    },
    {
      "cell_type": "code",
      "metadata": {
        "id": "4_0fyXXuvWth",
        "colab_type": "code",
        "colab": {
          "base_uri": "https://localhost:8080/",
          "height": 35
        },
        "outputId": "01377afb-aa1d-456c-8de9-2d167159b8e0"
      },
      "source": [
        "vocab = []\n",
        "for v in sorted_vocab :\n",
        "    vocab.append(v[1])\n",
        "print('vocab',vocab)"
      ],
      "execution_count": 26,
      "outputs": [
        {
          "output_type": "stream",
          "text": [
            "vocab ['나는', '양념', '치킨을', '좋아해', '하지만', '후라이드', '싫어해']\n"
          ],
          "name": "stdout"
        }
      ]
    },
    {
      "cell_type": "code",
      "metadata": {
        "id": "Y8bYC94nvWtn",
        "colab_type": "code",
        "colab": {
          "base_uri": "https://localhost:8080/",
          "height": 287
        },
        "outputId": "39b4c390-222c-45a0-a67f-c8e10372198d"
      },
      "source": [
        "for i in range(len(docs)) :\n",
        "    print(\"문서{} : {}\".format(i,docs[i]))  \n",
        "    # 문서{}:{}라고 format을 만들어두고, format(i,docs[i])에서 ()안에 있는 i가 문서{}안에, docs[i]가 뒤에 있는 {}에 들어간다.\n",
        "    ICD.display(pd.DataFrame([Bow_ls[i]], columns=vocab))\n",
        "    print(\"\\n\\n\") \n",
        "    \n",
        "    # (\"\\n\\n\") = Enter를 입력해서 보기 편하게 만들었다. 안 그러면 옆으로 붙어서 길게 출력 된다. "
      ],
      "execution_count": 27,
      "outputs": [
        {
          "output_type": "stream",
          "text": [
            "문서0 : 나는 양념 치킨을 좋아해 하지만 후라이드 치킨을 싫어해\n"
          ],
          "name": "stdout"
        },
        {
          "output_type": "display_data",
          "data": {
            "text/html": [
              "<div>\n",
              "<style scoped>\n",
              "    .dataframe tbody tr th:only-of-type {\n",
              "        vertical-align: middle;\n",
              "    }\n",
              "\n",
              "    .dataframe tbody tr th {\n",
              "        vertical-align: top;\n",
              "    }\n",
              "\n",
              "    .dataframe thead th {\n",
              "        text-align: right;\n",
              "    }\n",
              "</style>\n",
              "<table border=\"1\" class=\"dataframe\">\n",
              "  <thead>\n",
              "    <tr style=\"text-align: right;\">\n",
              "      <th></th>\n",
              "      <th>나는</th>\n",
              "      <th>양념</th>\n",
              "      <th>치킨을</th>\n",
              "      <th>좋아해</th>\n",
              "      <th>하지만</th>\n",
              "      <th>후라이드</th>\n",
              "      <th>싫어해</th>\n",
              "    </tr>\n",
              "  </thead>\n",
              "  <tbody>\n",
              "    <tr>\n",
              "      <th>0</th>\n",
              "      <td>1</td>\n",
              "      <td>1</td>\n",
              "      <td>2</td>\n",
              "      <td>1</td>\n",
              "      <td>1</td>\n",
              "      <td>1</td>\n",
              "      <td>1</td>\n",
              "    </tr>\n",
              "  </tbody>\n",
              "</table>\n",
              "</div>"
            ],
            "text/plain": [
              "   나는  양념  치킨을  좋아해  하지만  후라이드  싫어해\n",
              "0   1   1    2    1    1     1    1"
            ]
          },
          "metadata": {
            "tags": []
          }
        },
        {
          "output_type": "stream",
          "text": [
            "\n",
            "\n",
            "\n",
            "문서1 : 나는 후라이드 치킨을 좋아해 하지만 양념 치킨을 싫어해\n"
          ],
          "name": "stdout"
        },
        {
          "output_type": "display_data",
          "data": {
            "text/html": [
              "<div>\n",
              "<style scoped>\n",
              "    .dataframe tbody tr th:only-of-type {\n",
              "        vertical-align: middle;\n",
              "    }\n",
              "\n",
              "    .dataframe tbody tr th {\n",
              "        vertical-align: top;\n",
              "    }\n",
              "\n",
              "    .dataframe thead th {\n",
              "        text-align: right;\n",
              "    }\n",
              "</style>\n",
              "<table border=\"1\" class=\"dataframe\">\n",
              "  <thead>\n",
              "    <tr style=\"text-align: right;\">\n",
              "      <th></th>\n",
              "      <th>나는</th>\n",
              "      <th>양념</th>\n",
              "      <th>치킨을</th>\n",
              "      <th>좋아해</th>\n",
              "      <th>하지만</th>\n",
              "      <th>후라이드</th>\n",
              "      <th>싫어해</th>\n",
              "    </tr>\n",
              "  </thead>\n",
              "  <tbody>\n",
              "    <tr>\n",
              "      <th>0</th>\n",
              "      <td>1</td>\n",
              "      <td>1</td>\n",
              "      <td>2</td>\n",
              "      <td>1</td>\n",
              "      <td>1</td>\n",
              "      <td>1</td>\n",
              "      <td>1</td>\n",
              "    </tr>\n",
              "  </tbody>\n",
              "</table>\n",
              "</div>"
            ],
            "text/plain": [
              "   나는  양념  치킨을  좋아해  하지만  후라이드  싫어해\n",
              "0   1   1    2    1    1     1    1"
            ]
          },
          "metadata": {
            "tags": []
          }
        },
        {
          "output_type": "stream",
          "text": [
            "\n",
            "\n",
            "\n"
          ],
          "name": "stdout"
        }
      ]
    },
    {
      "cell_type": "code",
      "metadata": {
        "id": "29SkFxunvWtr",
        "colab_type": "code",
        "colab": {
          "base_uri": "https://localhost:8080/",
          "height": 35
        },
        "outputId": "cb4db55c-c76f-4541-f057-373b606668a1"
      },
      "source": [
        "Bow_ls"
      ],
      "execution_count": 28,
      "outputs": [
        {
          "output_type": "execute_result",
          "data": {
            "text/plain": [
              "[[1, 1, 2, 1, 1, 1, 1], [1, 1, 2, 1, 1, 1, 1]]"
            ]
          },
          "metadata": {
            "tags": []
          },
          "execution_count": 28
        }
      ]
    },
    {
      "cell_type": "markdown",
      "metadata": {
        "id": "IkoryrWF0GBV",
        "colab_type": "text"
      },
      "source": [
        "##  Sklearn을 이용한 Bow"
      ]
    },
    {
      "cell_type": "code",
      "metadata": {
        "id": "7VNvnK3iBDEs",
        "colab_type": "code",
        "colab": {}
      },
      "source": [
        "docs = ['나는 양념 치킨을 좋아해 하지만 후라이드 치킨을 싫어해',\n",
        "        '나는 후라이드 치킨을 좋아해 하지만 양념 치킨을 싫어해']"
      ],
      "execution_count": 41,
      "outputs": []
    },
    {
      "cell_type": "code",
      "metadata": {
        "id": "Smd66SLqvWty",
        "colab_type": "code",
        "colab": {
          "base_uri": "https://localhost:8080/",
          "height": 71
        },
        "outputId": "5ab89377-0738-4a7e-fc25-a87762b87890"
      },
      "source": [
        "# 토큰빈도계산 : CountVectorizer \n",
        "from sklearn.feature_extraction.text import CountVectorizer \n",
        "# 선언\n",
        "count_vect = CountVectorizer()\n",
        "Bow = count_vect.fit_transform(docs)\n",
        "print(Bow.toarray())\n",
        "vocab = count_vect.get_feature_names()\n",
        "print(vocab)"
      ],
      "execution_count": 32,
      "outputs": [
        {
          "output_type": "stream",
          "text": [
            "[[1 1 1 1 2 1 1]\n",
            " [1 1 1 1 2 1 1]]\n",
            "['나는', '싫어해', '양념', '좋아해', '치킨을', '하지만', '후라이드']\n"
          ],
          "name": "stdout"
        }
      ]
    },
    {
      "cell_type": "markdown",
      "metadata": {
        "id": "BcZpCswU2Xk4",
        "colab_type": "text"
      },
      "source": [
        "## gensim을 이용한 Bow\n",
        "\n",
        "\n",
        "<참고> gensim은 문자를 그대로 넣으면 안되고 토큰화 시켜줘야 함.\n"
      ]
    },
    {
      "cell_type": "code",
      "metadata": {
        "id": "EnEeUVkyzs2x",
        "colab_type": "code",
        "colab": {}
      },
      "source": [
        "docs = ['나는 양념 치킨을 좋아해 하지만 후라이드 치킨을 싫어해',\n",
        "        '나는 후라이드 치킨을 좋아해 하지만 양념 치킨을 싫어해']"
      ],
      "execution_count": 33,
      "outputs": []
    },
    {
      "cell_type": "code",
      "metadata": {
        "id": "ZIL0kIZ72iDT",
        "colab_type": "code",
        "colab": {
          "base_uri": "https://localhost:8080/",
          "height": 89
        },
        "outputId": "da029097-8ecc-48b2-c3cd-82916918513c"
      },
      "source": [
        "from gensim import corpora\n",
        "\n",
        "doc_ls =[] # 새로운 바구니를 만들고 \n",
        "\n",
        "for doc in docs :\n",
        "    doc_ls.append(doc.split(' '))  # 띄어쓰기를 기준으로 바구니에 append 시키는 for문을 실행한다. \n",
        "print(doc_ls)\n",
        "\n",
        "id2word = corpora.Dictionary(doc_ls)\n",
        "print('----') \n",
        "print(id2word)\n",
        "\n",
        "Bow =[]\n",
        "for doc in doc_ls :\n",
        "  Bow.append(id2word.doc2bow(doc))\n",
        "print(Bow)"
      ],
      "execution_count": 35,
      "outputs": [
        {
          "output_type": "stream",
          "text": [
            "[['나는', '양념', '치킨을', '좋아해', '하지만', '후라이드', '치킨을', '싫어해'], ['나는', '후라이드', '치킨을', '좋아해', '하지만', '양념', '치킨을', '싫어해']]\n",
            "----\n",
            "Dictionary(7 unique tokens: ['나는', '싫어해', '양념', '좋아해', '치킨을']...)\n",
            "[[(0, 1), (1, 1), (2, 1), (3, 1), (4, 2), (5, 1), (6, 1)], [(0, 1), (1, 1), (2, 1), (3, 1), (4, 2), (5, 1), (6, 1)]]\n"
          ],
          "name": "stdout"
        }
      ]
    },
    {
      "cell_type": "code",
      "metadata": {
        "id": "YW_OUxFo2_Ko",
        "colab_type": "code",
        "colab": {
          "base_uri": "https://localhost:8080/",
          "height": 35
        },
        "outputId": "65fce430-c7ec-4907-aa6c-8893acf1f1ca"
      },
      "source": [
        "# 뜯어보기 1\n",
        "Bow =[]\n",
        "for doc in doc_ls :\n",
        "  Bow.append(id2word.doc2bow(doc))\n",
        "print(Bow)"
      ],
      "execution_count": 36,
      "outputs": [
        {
          "output_type": "stream",
          "text": [
            "[[(0, 1), (1, 1), (2, 1), (3, 1), (4, 2), (5, 1), (6, 1)], [(0, 1), (1, 1), (2, 1), (3, 1), (4, 2), (5, 1), (6, 1)]]\n"
          ],
          "name": "stdout"
        }
      ]
    },
    {
      "cell_type": "markdown",
      "metadata": {
        "id": "SZH1_TFK3TFr",
        "colab_type": "text"
      },
      "source": [
        "***(0,1) = 0번째 단어의 인덱스는 1이다 라고 해석할 수 있다. 하지만 이렇게 하면 눈으로 확인하기가 비교적 어렵다. ***"
      ]
    },
    {
      "cell_type": "code",
      "metadata": {
        "id": "c3xRKteW3RXd",
        "colab_type": "code",
        "colab": {
          "base_uri": "https://localhost:8080/",
          "height": 35
        },
        "outputId": "b82265b4-e48b-4c0c-a82f-2a4546cc1b27"
      },
      "source": [
        "Bow[0]"
      ],
      "execution_count": 37,
      "outputs": [
        {
          "output_type": "execute_result",
          "data": {
            "text/plain": [
              "[(0, 1), (1, 1), (2, 1), (3, 1), (4, 2), (5, 1), (6, 1)]"
            ]
          },
          "metadata": {
            "tags": []
          },
          "execution_count": 37
        }
      ]
    },
    {
      "cell_type": "code",
      "metadata": {
        "id": "WG2WuaB58Yyj",
        "colab_type": "code",
        "colab": {
          "base_uri": "https://localhost:8080/",
          "height": 287
        },
        "outputId": "21076211-8d9c-47f7-fdcc-552dfb4e867f"
      },
      "source": [
        "from gensim.matutils import sparse2full\n",
        "from IPython.core import display as ICD\n",
        "import pandas as pd\n",
        "vocab = [id2word[i] for i in id2word.keys()]\n",
        "for i in range(len(docs)) :\n",
        "    print(\"문서{} : {}\".format(i,docs[i]))  \n",
        "    # 문서{}:{}라고 format을 만들어두고, format(i,docs[i])에서 ()안에 있는 i가 문서{}안에, docs[i]가 뒤에 있는 {}에 들어간다.\n",
        "    ICD.display(pd.DataFrame([sparse2full(Bow[i],len(vocab))], columns=vocab))\n",
        "    print(\"\\n\\n\")"
      ],
      "execution_count": 40,
      "outputs": [
        {
          "output_type": "stream",
          "text": [
            "문서0 : 나는 양념 치킨을 좋아해 하지만 후라이드 치킨을 싫어해\n"
          ],
          "name": "stdout"
        },
        {
          "output_type": "display_data",
          "data": {
            "text/html": [
              "<div>\n",
              "<style scoped>\n",
              "    .dataframe tbody tr th:only-of-type {\n",
              "        vertical-align: middle;\n",
              "    }\n",
              "\n",
              "    .dataframe tbody tr th {\n",
              "        vertical-align: top;\n",
              "    }\n",
              "\n",
              "    .dataframe thead th {\n",
              "        text-align: right;\n",
              "    }\n",
              "</style>\n",
              "<table border=\"1\" class=\"dataframe\">\n",
              "  <thead>\n",
              "    <tr style=\"text-align: right;\">\n",
              "      <th></th>\n",
              "      <th>나는</th>\n",
              "      <th>싫어해</th>\n",
              "      <th>양념</th>\n",
              "      <th>좋아해</th>\n",
              "      <th>치킨을</th>\n",
              "      <th>하지만</th>\n",
              "      <th>후라이드</th>\n",
              "    </tr>\n",
              "  </thead>\n",
              "  <tbody>\n",
              "    <tr>\n",
              "      <th>0</th>\n",
              "      <td>1.0</td>\n",
              "      <td>1.0</td>\n",
              "      <td>1.0</td>\n",
              "      <td>1.0</td>\n",
              "      <td>2.0</td>\n",
              "      <td>1.0</td>\n",
              "      <td>1.0</td>\n",
              "    </tr>\n",
              "  </tbody>\n",
              "</table>\n",
              "</div>"
            ],
            "text/plain": [
              "    나는  싫어해   양념  좋아해  치킨을  하지만  후라이드\n",
              "0  1.0  1.0  1.0  1.0  2.0  1.0   1.0"
            ]
          },
          "metadata": {
            "tags": []
          }
        },
        {
          "output_type": "stream",
          "text": [
            "\n",
            "\n",
            "\n",
            "문서1 : 나는 후라이드 치킨을 좋아해 하지만 양념 치킨을 싫어해\n"
          ],
          "name": "stdout"
        },
        {
          "output_type": "display_data",
          "data": {
            "text/html": [
              "<div>\n",
              "<style scoped>\n",
              "    .dataframe tbody tr th:only-of-type {\n",
              "        vertical-align: middle;\n",
              "    }\n",
              "\n",
              "    .dataframe tbody tr th {\n",
              "        vertical-align: top;\n",
              "    }\n",
              "\n",
              "    .dataframe thead th {\n",
              "        text-align: right;\n",
              "    }\n",
              "</style>\n",
              "<table border=\"1\" class=\"dataframe\">\n",
              "  <thead>\n",
              "    <tr style=\"text-align: right;\">\n",
              "      <th></th>\n",
              "      <th>나는</th>\n",
              "      <th>싫어해</th>\n",
              "      <th>양념</th>\n",
              "      <th>좋아해</th>\n",
              "      <th>치킨을</th>\n",
              "      <th>하지만</th>\n",
              "      <th>후라이드</th>\n",
              "    </tr>\n",
              "  </thead>\n",
              "  <tbody>\n",
              "    <tr>\n",
              "      <th>0</th>\n",
              "      <td>1.0</td>\n",
              "      <td>1.0</td>\n",
              "      <td>1.0</td>\n",
              "      <td>1.0</td>\n",
              "      <td>2.0</td>\n",
              "      <td>1.0</td>\n",
              "      <td>1.0</td>\n",
              "    </tr>\n",
              "  </tbody>\n",
              "</table>\n",
              "</div>"
            ],
            "text/plain": [
              "    나는  싫어해   양념  좋아해  치킨을  하지만  후라이드\n",
              "0  1.0  1.0  1.0  1.0  2.0  1.0   1.0"
            ]
          },
          "metadata": {
            "tags": []
          }
        },
        {
          "output_type": "stream",
          "text": [
            "\n",
            "\n",
            "\n"
          ],
          "name": "stdout"
        }
      ]
    },
    {
      "cell_type": "markdown",
      "metadata": {
        "id": "xaL-Iwi2BZAu",
        "colab_type": "text"
      },
      "source": [
        "이렇게 각각 다른 도구 (Sklearn, Gensim)을 사용했지만 결과 값은 동일하게 나온다는 것을 확인 할 수 있다. 텍스트를 토큰화 한다는 것은 정확한 기준을 가지고 카테고리화 해야하고, 다양한 언어적 요소를 고려해야 하는 일이다. 쉽지 않은 일이지만 공부하면 충분히 도전할 수 있는 일이고 나에게는 특히 흥미로운 분야다. \n",
        "\n",
        "\n",
        "\n",
        "\n",
        "> 다음 파일에서는 BOW의 방법 중 하나인 TDM, DTM과 TF-IDF에 대해서 공부해보려고 한다. 자세한 내용은 다음 파일을 참고. \n",
        "\n",
        "\n",
        "\n",
        "\n",
        "\n",
        "\n",
        "**--- END**"
      ]
    }
  ]
}